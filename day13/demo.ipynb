{
 "cells": [
  {
   "cell_type": "code",
   "execution_count": 4,
   "metadata": {},
   "outputs": [],
   "source": [
    "def calculate_factorial():\n",
    "    \n",
    "    for num in range(1,13,1):\n",
    "        ans = 1\n",
    "\n",
    "\n",
    "        for count in range(2, num+1):\n",
    "            ans = ans * count\n",
    "\n",
    "        print(f\"Factorial of {num} is {ans}\")"
   ]
  },
  {
   "cell_type": "code",
   "execution_count": 5,
   "metadata": {},
   "outputs": [
    {
     "name": "stdout",
     "output_type": "stream",
     "text": [
      "Factorial of 1 is 1\n",
      "Factorial of 2 is 2\n",
      "Factorial of 3 is 6\n",
      "Factorial of 4 is 24\n",
      "Factorial of 5 is 120\n",
      "Factorial of 6 is 720\n",
      "Factorial of 7 is 5040\n",
      "Factorial of 8 is 40320\n",
      "Factorial of 9 is 362880\n",
      "Factorial of 10 is 3628800\n",
      "Factorial of 11 is 39916800\n",
      "Factorial of 12 is 479001600\n"
     ]
    }
   ],
   "source": [
    "calculate_factorial()"
   ]
  },
  {
   "attachments": {},
   "cell_type": "markdown",
   "metadata": {},
   "source": [
    "## BASIC OPERATIONS\n",
    "\n",
    "#### Input/Output\n",
    "#### creating variables \n",
    "#### making a function\n",
    "#### running a loop or write conditions to repeat operation\n",
    "\n",
    "\n",
    "n1 + n2"
   ]
  },
  {
   "attachments": {},
   "cell_type": "markdown",
   "metadata": {},
   "source": [
    "#### take 2 numbers from the user as input. Print addition of these 2 numbers"
   ]
  },
  {
   "attachments": {},
   "cell_type": "markdown",
   "metadata": {},
   "source": [
    "### step 1:  take first number as input from the user\n",
    "### step 2: take second number as input\n",
    "### step 3 : print addition of first and second number"
   ]
  },
  {
   "cell_type": "code",
   "execution_count": 6,
   "metadata": {},
   "outputs": [
    {
     "name": "stdout",
     "output_type": "stream",
     "text": [
      "30\n"
     ]
    }
   ],
   "source": [
    "first_number = int(input(\"Enter a number: \"))\n",
    "second_number = int(input(\"Enter second number: \"))\n",
    "\n",
    "print(     first_number + second_number       )"
   ]
  },
  {
   "attachments": {},
   "cell_type": "markdown",
   "metadata": {},
   "source": [
    "#### find if a number given as input is odd or even\n",
    "\n",
    "\n",
    "## step 1: take input for a number\n",
    "## step 2: divide number 2 and check if 0 is remainder. if 0 it is even else odd\n"
   ]
  },
  {
   "cell_type": "code",
   "execution_count": 7,
   "metadata": {},
   "outputs": [
    {
     "name": "stdout",
     "output_type": "stream",
     "text": [
      "5 is odd\n"
     ]
    }
   ],
   "source": [
    "number = int(input(\"Enter a number: \"))\n",
    "\n",
    "if number % 2 == 0:\n",
    "    print(f\"{number} is even\")\n",
    "else:\n",
    "    print(f\"{number} is odd\")"
   ]
  }
 ],
 "metadata": {
  "kernelspec": {
   "display_name": "virtualenv",
   "language": "python",
   "name": "python3"
  },
  "language_info": {
   "codemirror_mode": {
    "name": "ipython",
    "version": 3
   },
   "file_extension": ".py",
   "mimetype": "text/x-python",
   "name": "python",
   "nbconvert_exporter": "python",
   "pygments_lexer": "ipython3",
   "version": "3.10.6"
  },
  "orig_nbformat": 4
 },
 "nbformat": 4,
 "nbformat_minor": 2
}
