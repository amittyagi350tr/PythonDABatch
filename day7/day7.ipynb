{
 "cells": [
  {
   "cell_type": "code",
   "execution_count": 1,
   "metadata": {},
   "outputs": [],
   "source": [
    "import pandas as pd\n",
    "import plotly.express as pe"
   ]
  },
  {
   "cell_type": "code",
   "execution_count": 3,
   "metadata": {},
   "outputs": [
    {
     "name": "stdout",
     "output_type": "stream",
     "text": [
      "My name is Harshit. My salary is 2456.76. Tax on my salary is 245.67600000000004\n"
     ]
    }
   ],
   "source": [
    "n1 = 10                    #int\n",
    "\n",
    "name = \"Harshit\"           #str\n",
    "\n",
    "#multi-line string\n",
    "paragraph = \"\"\"This is line 1\n",
    "This is line 2\n",
    "This is line 3\"\"\"\n",
    "\n",
    "salary = 2456.76           #float\n",
    "\n",
    "#formatted string\n",
    "msg = f\"My name is {name}. My salary is {salary}. Tax on my salary is {0.1 * salary}\"\n",
    "\n",
    "print(msg)\n"
   ]
  },
  {
   "attachments": {},
   "cell_type": "markdown",
   "metadata": {},
   "source": [
    "### data collections/data containers/data structure"
   ]
  },
  {
   "cell_type": "code",
   "execution_count": 6,
   "metadata": {},
   "outputs": [
    {
     "name": "stdout",
     "output_type": "stream",
     "text": [
      "data before modification [19.21, 10.21, 'Harshit', 100, -10, [10, 20, 30]]\n",
      "Data after modification [19.21, 999, 'Harshit', 100, -10, [10, 20, 30]]\n"
     ]
    }
   ],
   "source": [
    "      #  0        1       2         3    4       5      \n",
    "data = [19.21,  10.21, \"Harshit\",  100, -10,  [10,20,30]  ] #list : a collection of values mutable\n",
    "\n",
    "print(f\"data before modification {data}\")\n",
    "\n",
    "data[1] = 999 #indexing\n",
    "\n",
    "print(f\"Data after modification {data}\")"
   ]
  },
  {
   "cell_type": "code",
   "execution_count": 8,
   "metadata": {},
   "outputs": [
    {
     "name": "stdout",
     "output_type": "stream",
     "text": [
      "data before modification (100, 200)\n"
     ]
    },
    {
     "ename": "TypeError",
     "evalue": "'tuple' object does not support item assignment",
     "output_type": "error",
     "traceback": [
      "\u001b[0;31m---------------------------------------------------------------------------\u001b[0m",
      "\u001b[0;31mTypeError\u001b[0m                                 Traceback (most recent call last)",
      "Cell \u001b[0;32mIn[8], line 5\u001b[0m\n\u001b[1;32m      2\u001b[0m data \u001b[39m=\u001b[39m (\u001b[39m100\u001b[39m,\u001b[39m200\u001b[39m)\n\u001b[1;32m      3\u001b[0m \u001b[39mprint\u001b[39m(\u001b[39mf\u001b[39m\u001b[39m\"\u001b[39m\u001b[39mdata before modification \u001b[39m\u001b[39m{\u001b[39;00mdata\u001b[39m}\u001b[39;00m\u001b[39m\"\u001b[39m)\n\u001b[0;32m----> 5\u001b[0m data[\u001b[39m1\u001b[39;49m] \u001b[39m=\u001b[39m \u001b[39m999\u001b[39m \u001b[39m#indexing\u001b[39;00m\n\u001b[1;32m      7\u001b[0m \u001b[39mprint\u001b[39m(\u001b[39mf\u001b[39m\u001b[39m\"\u001b[39m\u001b[39mData after modification \u001b[39m\u001b[39m{\u001b[39;00mdata\u001b[39m}\u001b[39;00m\u001b[39m\"\u001b[39m)\n",
      "\u001b[0;31mTypeError\u001b[0m: 'tuple' object does not support item assignment"
     ]
    }
   ],
   "source": [
    "data = (19.21,  10.21, \"Harshit\",  100, -10,  [10,20,30]  ) #tuple : a collection of values immutable\n",
    "data = (100,200)\n",
    "print(f\"data before modification {data}\")\n",
    "\n",
    "data[1] = 999 #indexing\n",
    "\n",
    "print(f\"Data after modification {data}\")"
   ]
  },
  {
   "attachments": {},
   "cell_type": "markdown",
   "metadata": {},
   "source": [
    "### dictionary : label  :   value i.e   key  : value pairs\n",
    "\n",
    "##### every item in a dictionary is a combination of key and values\n",
    "\n",
    "\n",
    "### dictionary is created using HASH TABLE  "
   ]
  },
  {
   "cell_type": "code",
   "execution_count": 12,
   "metadata": {},
   "outputs": [
    {
     "name": "stdout",
     "output_type": "stream",
     "text": [
      "{'name': 'Harshit', 'age': 28, 'skills': ['python', 'java', 'DA', 'ML']}\n",
      "My skills are   ['python', 'java', 'DA', 'ML']\n"
     ]
    }
   ],
   "source": [
    "employee={\n",
    "    \"name\" : \"Harshit\",\n",
    "    \"age\" :  28,\n",
    "    \"skills\" : [\"python\",\"java\",\"DA\",\"ML\"]\n",
    "}\n",
    "\n",
    "print(employee)\n",
    "\n",
    "print( f'My skills are   {   employee.get(\"skills\")    }'  )"
   ]
  },
  {
   "attachments": {},
   "cell_type": "markdown",
   "metadata": {},
   "source": [
    "### conditional programming"
   ]
  },
  {
   "cell_type": "code",
   "execution_count": null,
   "metadata": {},
   "outputs": [],
   "source": [
    "age =  int(        input(\"Enter a value: \")          )\n",
    "\n",
    "if age >= 18 :\n",
    "    print(\"You are eligible to vote\")\n",
    "else:\n",
    "    print(\"You cannot vote\")"
   ]
  },
  {
   "cell_type": "code",
   "execution_count": null,
   "metadata": {},
   "outputs": [],
   "source": [
    "number = int(      input(\"Enter a number: \")     )\n",
    "\n",
    "\n",
    "#number divisible by 4 and number divisible by 5\n",
    "\n",
    "if number % 4 == 0    and     number % 5 == 0 :\n",
    "    print(\"first case\")\n",
    "\n",
    "#number divisible by 7\n",
    "elif number % 7 == 0:\n",
    "    print(\"second case\")\n",
    "\n",
    "#number divisible by 10\n",
    "elif number % 10 == 0:\n",
    "    print(\"third case\")\n",
    "    \n",
    "#otherwise\n",
    "else:\n",
    "    print(\"last case\")"
   ]
  },
  {
   "attachments": {},
   "cell_type": "markdown",
   "metadata": {},
   "source": [
    "video\n",
    "hackerrank\n",
    "assignment\n",
    "---------------\n",
    "pandas and plotly basic practice!"
   ]
  },
  {
   "attachments": {},
   "cell_type": "markdown",
   "metadata": {},
   "source": [
    "## loops in programming"
   ]
  },
  {
   "cell_type": "code",
   "execution_count": 13,
   "metadata": {},
   "outputs": [],
   "source": [
    "### for loop"
   ]
  },
  {
   "cell_type": "code",
   "execution_count": 14,
   "metadata": {},
   "outputs": [
    {
     "name": "stdout",
     "output_type": "stream",
     "text": [
      "0\n",
      "1\n",
      "2\n",
      "3\n",
      "4\n"
     ]
    }
   ],
   "source": [
    "for number in range(5):\n",
    "    print(number)"
   ]
  },
  {
   "cell_type": "code",
   "execution_count": 17,
   "metadata": {},
   "outputs": [
    {
     "name": "stdout",
     "output_type": "stream",
     "text": [
      "0\n",
      "False\n",
      "1\n",
      "False\n",
      "2\n",
      "True\n"
     ]
    }
   ],
   "source": [
    "for number in range(3):\n",
    "    print(number)\n",
    "    print( (number+10)  %  3 == 0)"
   ]
  },
  {
   "cell_type": "code",
   "execution_count": 18,
   "metadata": {},
   "outputs": [
    {
     "name": "stdout",
     "output_type": "stream",
     "text": [
      "3 square is 9\n",
      "10 square is 100\n",
      "15 square is 225\n"
     ]
    }
   ],
   "source": [
    "for count in range(3):\n",
    "    number = int(input(\"Enter a number: \"))\n",
    "    print(f\"{number} square is {number * number}\")"
   ]
  },
  {
   "cell_type": "code",
   "execution_count": 20,
   "metadata": {},
   "outputs": [
    {
     "name": "stdout",
     "output_type": "stream",
     "text": [
      "5 multiplied by 1 = 5\n",
      "5 multiplied by 2 = 10\n",
      "5 multiplied by 3 = 15\n",
      "5 multiplied by 4 = 20\n",
      "5 multiplied by 5 = 25\n",
      "5 multiplied by 6 = 30\n",
      "5 multiplied by 7 = 35\n",
      "5 multiplied by 8 = 40\n",
      "5 multiplied by 9 = 45\n",
      "5 multiplied by 10 = 50\n"
     ]
    }
   ],
   "source": [
    "#count starts from 1, count goes to all values LESS THAN 11, count is increased by +1\n",
    "\n",
    "number = int(input(\"Enter a number: \"))\n",
    "\n",
    "for count in range(1,11,1):\n",
    "    print(f\"{number} multiplied by {count} = {number * count}\")\n"
   ]
  },
  {
   "cell_type": "code",
   "execution_count": 21,
   "metadata": {},
   "outputs": [],
   "source": [
    "# for each loop"
   ]
  },
  {
   "cell_type": "code",
   "execution_count": 22,
   "metadata": {},
   "outputs": [
    {
     "name": "stdout",
     "output_type": "stream",
     "text": [
      "1000\n",
      "2000\n",
      "3000\n"
     ]
    }
   ],
   "source": [
    "data = [100, 200, 300]\n",
    "\n",
    "#operation: to print 10 times of each value in data\n",
    "\n",
    "for value in data:\n",
    "    print(value * 10)"
   ]
  },
  {
   "cell_type": "code",
   "execution_count": 23,
   "metadata": {},
   "outputs": [
    {
     "name": "stdout",
     "output_type": "stream",
     "text": [
      "True\n",
      "True\n",
      "True\n"
     ]
    }
   ],
   "source": [
    "data = [100, 200, 300]\n",
    "\n",
    "#operation: to check if each value in data in divisible by 4\n",
    "\n",
    "for value in data:\n",
    "    print(value % 4 == 0)"
   ]
  },
  {
   "cell_type": "code",
   "execution_count": 24,
   "metadata": {},
   "outputs": [
    {
     "name": "stdout",
     "output_type": "stream",
     "text": [
      "100\n",
      "400\n",
      "900\n",
      "1600\n"
     ]
    }
   ],
   "source": [
    "#operation : print square of each value in data\n",
    "\n",
    "data = [10,20,30,40]\n",
    "\n",
    "for value in data:\n",
    "    print(value * value)"
   ]
  },
  {
   "cell_type": "code",
   "execution_count": 28,
   "metadata": {},
   "outputs": [
    {
     "data": {
      "text/plain": [
       "1.4142135623730951"
      ]
     },
     "execution_count": 28,
     "metadata": {},
     "output_type": "execute_result"
    }
   ],
   "source": [
    "2 ** (1/2) "
   ]
  },
  {
   "cell_type": "code",
   "execution_count": 26,
   "metadata": {},
   "outputs": [
    {
     "name": "stdout",
     "output_type": "stream",
     "text": [
      "10000\n",
      "40000\n",
      "90000\n"
     ]
    }
   ],
   "source": [
    "data = [100, 200,\"Harshit\" , 300]\n",
    "\n",
    "#operation: to print square of integers only in data\n",
    "\n",
    "#for each value in data:\n",
    "for value in data:\n",
    "\n",
    "    #check if value is of type integer\n",
    "    if isinstance(value, int):\n",
    "        #if yes, print square\n",
    "        print(value * value)"
   ]
  },
  {
   "cell_type": "code",
   "execution_count": 30,
   "metadata": {},
   "outputs": [
    {
     "name": "stdout",
     "output_type": "stream",
     "text": [
      "10 squared is: 100\n",
      "5 squared is: 25\n",
      "11 squared is: 121\n",
      "16 squared is: 256\n",
      "19 squared is: 361\n",
      "21 squared is: 441\n",
      "4 squared is: 16\n",
      "19 squared is: 361\n",
      "0 squared is: 0\n"
     ]
    }
   ],
   "source": [
    "# take a number as input from the user. print the square of the number. \n",
    "# REPEAT THIS TILL USER PROVIDES INPUT AS 0\n",
    "\n",
    "number = 1\n",
    "\n",
    "while number != 0 :\n",
    "    number = int(input(\"Enter a number: \"))\n",
    "    print(f\"{number} squared is: {number * number}\")"
   ]
  },
  {
   "cell_type": "code",
   "execution_count": 32,
   "metadata": {},
   "outputs": [
    {
     "name": "stdout",
     "output_type": "stream",
     "text": [
      "1 squared is: 1\n",
      "2 squared is: 4\n",
      "3 squared is: 9\n",
      "4 squared is: 16\n",
      "5 squared is: 25\n",
      "6 squared is: 36\n"
     ]
    }
   ],
   "source": [
    "for count in range(1,11,1):\n",
    "    if count % 7 == 0:\n",
    "        break\n",
    "    print(f\"{count} squared is: {count ** 2}\")"
   ]
  },
  {
   "cell_type": "code",
   "execution_count": 33,
   "metadata": {},
   "outputs": [
    {
     "name": "stdout",
     "output_type": "stream",
     "text": [
      "10 squared is: 100\n",
      "20 squared is: 400\n",
      "30 squared is: 900\n"
     ]
    }
   ],
   "source": [
    "# take a number as input from the user. print the square of the number. \n",
    "# REPEAT THIS TILL USER PROVIDES INPUT AS 0\n",
    "\n",
    "number = 1\n",
    "\n",
    "while number != 0 :\n",
    "    number = int(input(\"Enter a number: \"))\n",
    "    if number < 0 : #negative\n",
    "        break\n",
    "    print(f\"{number} squared is: {number * number}\")"
   ]
  },
  {
   "attachments": {},
   "cell_type": "markdown",
   "metadata": {},
   "source": [
    "## functions/routine"
   ]
  },
  {
   "cell_type": "code",
   "execution_count": 35,
   "metadata": {},
   "outputs": [],
   "source": [
    "#to take a number from the user & print the square of the number\n",
    "\n",
    "def square():\n",
    "    number = int(input(\"Enter a number: \"))\n",
    "    print(f\"{number} squared is: {number * number}\")"
   ]
  },
  {
   "cell_type": "code",
   "execution_count": 36,
   "metadata": {},
   "outputs": [
    {
     "name": "stdout",
     "output_type": "stream",
     "text": [
      "hello\n",
      "14 squared is: 196\n"
     ]
    }
   ],
   "source": [
    "print(\"hello\")\n",
    "\n",
    "square()"
   ]
  },
  {
   "cell_type": "code",
   "execution_count": 37,
   "metadata": {},
   "outputs": [
    {
     "name": "stdout",
     "output_type": "stream",
     "text": [
      "this is a test\n",
      "15 squared is: 225\n"
     ]
    }
   ],
   "source": [
    "print(\"this is a test\")\n",
    "square()"
   ]
  },
  {
   "attachments": {},
   "cell_type": "markdown",
   "metadata": {},
   "source": [
    "# software developer & software engineer?"
   ]
  },
  {
   "attachments": {},
   "cell_type": "markdown",
   "metadata": {},
   "source": [
    "# software engineer?: Margaret Hamilton!"
   ]
  },
  {
   "cell_type": "code",
   "execution_count": 40,
   "metadata": {},
   "outputs": [],
   "source": [
    "def addition(  x : int or float ,  y : int or float   ) :\n",
    "\n",
    "    if isinstance(  x ,   (int,float)   )    and     isinstance(y,   (int,float)   ):\n",
    "        print(x + y)\n",
    "    else:\n",
    "        print(\"invalid values\")"
   ]
  },
  {
   "cell_type": "code",
   "execution_count": 41,
   "metadata": {},
   "outputs": [
    {
     "name": "stdout",
     "output_type": "stream",
     "text": [
      "30\n",
      "20.42\n",
      "invalid values\n",
      "invalid values\n",
      "invalid values\n"
     ]
    }
   ],
   "source": [
    "addition(  10, 20   )\n",
    "\n",
    "addition(10.21,  10.21)\n",
    "\n",
    "addition(\"harshit\", \" shukla\")\n",
    "\n",
    "addition([1,2,3] ,  [4,5,6])\n",
    "\n",
    "addition(  10, \"harshit\"     )"
   ]
  },
  {
   "cell_type": "code",
   "execution_count": null,
   "metadata": {},
   "outputs": [],
   "source": []
  }
 ],
 "metadata": {
  "kernelspec": {
   "display_name": "virtualenv",
   "language": "python",
   "name": "python3"
  },
  "language_info": {
   "codemirror_mode": {
    "name": "ipython",
    "version": 3
   },
   "file_extension": ".py",
   "mimetype": "text/x-python",
   "name": "python",
   "nbconvert_exporter": "python",
   "pygments_lexer": "ipython3",
   "version": "3.10.6"
  },
  "orig_nbformat": 4,
  "vscode": {
   "interpreter": {
    "hash": "d01e6418c1ee8dcb44e8c7248b9d4d1e94a254f0e05c83ed8a77cbe4ff288cd2"
   }
  }
 },
 "nbformat": 4,
 "nbformat_minor": 2
}
