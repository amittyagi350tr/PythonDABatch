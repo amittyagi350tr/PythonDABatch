{
 "cells": [
  {
   "cell_type": "code",
   "execution_count": 36,
   "metadata": {},
   "outputs": [],
   "source": [
    "import pandas as pd #panel data sheets\n",
    "import plotly.express as pe #plotly: for graphs & data visualization needs"
   ]
  },
  {
   "attachments": {},
   "cell_type": "markdown",
   "metadata": {},
   "source": [
    "#### Open : Price at the start of the day for one share\n",
    "#### Close : Price at the end of the day for one share\n",
    "#### Adj Close : Price at the end of the day for one share AFTER MAKING ADJUSTMENTS FROM PREVIOUS DAY, AND OTHER SETTLEMENTS\n",
    "#### High : Highest price for one share ON THAT DAY\n",
    "#### LOW : Lowest price for one share ON THAT DAY\n",
    "#### VOLUME: Number of shares traded in one day (purchased and sold)"
   ]
  },
  {
   "attachments": {},
   "cell_type": "markdown",
   "metadata": {},
   "source": [
    "DRY : Don't Repeat Yourself"
   ]
  },
  {
   "cell_type": "code",
   "execution_count": 37,
   "metadata": {},
   "outputs": [],
   "source": [
    "def display_graph(result :  pd.DataFrame ) -> None:\n",
    "    fig1=pe.line(\n",
    "        x=result.index,\n",
    "        y=result.columns[0:3],\n",
    "        markers=True,\n",
    "        data_frame=result\n",
    "    )\n",
    "\n",
    "    fig2=pe.line(\n",
    "        x=result.index,\n",
    "        y=result.columns[3:],\n",
    "        markers=True,\n",
    "        data_frame=result\n",
    "    )\n",
    "\n",
    "    display(fig1,fig2)"
   ]
  },
  {
   "cell_type": "code",
   "execution_count": 38,
   "metadata": {},
   "outputs": [
    {
     "data": {
      "text/html": [
       "<div>\n",
       "<style scoped>\n",
       "    .dataframe tbody tr th:only-of-type {\n",
       "        vertical-align: middle;\n",
       "    }\n",
       "\n",
       "    .dataframe tbody tr th {\n",
       "        vertical-align: top;\n",
       "    }\n",
       "\n",
       "    .dataframe thead th {\n",
       "        text-align: right;\n",
       "    }\n",
       "</style>\n",
       "<table border=\"1\" class=\"dataframe\">\n",
       "  <thead>\n",
       "    <tr style=\"text-align: right;\">\n",
       "      <th></th>\n",
       "      <th>Open</th>\n",
       "      <th>High</th>\n",
       "      <th>Low</th>\n",
       "      <th>Close</th>\n",
       "      <th>Adj Close</th>\n",
       "      <th>Volume</th>\n",
       "    </tr>\n",
       "    <tr>\n",
       "      <th>Date</th>\n",
       "      <th></th>\n",
       "      <th></th>\n",
       "      <th></th>\n",
       "      <th></th>\n",
       "      <th></th>\n",
       "      <th></th>\n",
       "    </tr>\n",
       "  </thead>\n",
       "  <tbody>\n",
       "    <tr>\n",
       "      <th>2013-02-12</th>\n",
       "      <td>17.125357</td>\n",
       "      <td>17.227858</td>\n",
       "      <td>16.705000</td>\n",
       "      <td>16.710714</td>\n",
       "      <td>14.432730</td>\n",
       "      <td>609053200</td>\n",
       "    </tr>\n",
       "    <tr>\n",
       "      <th>2013-02-13</th>\n",
       "      <td>16.686071</td>\n",
       "      <td>16.915714</td>\n",
       "      <td>16.543571</td>\n",
       "      <td>16.678928</td>\n",
       "      <td>14.405276</td>\n",
       "      <td>475207600</td>\n",
       "    </tr>\n",
       "    <tr>\n",
       "      <th>2013-02-14</th>\n",
       "      <td>16.590000</td>\n",
       "      <td>16.844286</td>\n",
       "      <td>16.572144</td>\n",
       "      <td>16.663929</td>\n",
       "      <td>14.392319</td>\n",
       "      <td>355275200</td>\n",
       "    </tr>\n",
       "    <tr>\n",
       "      <th>2013-02-15</th>\n",
       "      <td>16.744642</td>\n",
       "      <td>16.791430</td>\n",
       "      <td>16.425714</td>\n",
       "      <td>16.434286</td>\n",
       "      <td>14.193984</td>\n",
       "      <td>391745200</td>\n",
       "    </tr>\n",
       "    <tr>\n",
       "      <th>2013-02-19</th>\n",
       "      <td>16.467857</td>\n",
       "      <td>16.526072</td>\n",
       "      <td>16.208929</td>\n",
       "      <td>16.428213</td>\n",
       "      <td>14.188736</td>\n",
       "      <td>435783600</td>\n",
       "    </tr>\n",
       "    <tr>\n",
       "      <th>...</th>\n",
       "      <td>...</td>\n",
       "      <td>...</td>\n",
       "      <td>...</td>\n",
       "      <td>...</td>\n",
       "      <td>...</td>\n",
       "      <td>...</td>\n",
       "    </tr>\n",
       "    <tr>\n",
       "      <th>2023-02-06</th>\n",
       "      <td>152.570007</td>\n",
       "      <td>153.100006</td>\n",
       "      <td>150.779999</td>\n",
       "      <td>151.729996</td>\n",
       "      <td>151.498688</td>\n",
       "      <td>69858300</td>\n",
       "    </tr>\n",
       "    <tr>\n",
       "      <th>2023-02-07</th>\n",
       "      <td>150.639999</td>\n",
       "      <td>155.229996</td>\n",
       "      <td>150.639999</td>\n",
       "      <td>154.649994</td>\n",
       "      <td>154.414230</td>\n",
       "      <td>83322600</td>\n",
       "    </tr>\n",
       "    <tr>\n",
       "      <th>2023-02-08</th>\n",
       "      <td>153.880005</td>\n",
       "      <td>154.580002</td>\n",
       "      <td>151.169998</td>\n",
       "      <td>151.919998</td>\n",
       "      <td>151.688400</td>\n",
       "      <td>64120100</td>\n",
       "    </tr>\n",
       "    <tr>\n",
       "      <th>2023-02-09</th>\n",
       "      <td>153.779999</td>\n",
       "      <td>154.330002</td>\n",
       "      <td>150.419998</td>\n",
       "      <td>150.869995</td>\n",
       "      <td>150.639999</td>\n",
       "      <td>56007100</td>\n",
       "    </tr>\n",
       "    <tr>\n",
       "      <th>2023-02-10</th>\n",
       "      <td>149.460007</td>\n",
       "      <td>151.339996</td>\n",
       "      <td>149.220001</td>\n",
       "      <td>151.009995</td>\n",
       "      <td>151.009995</td>\n",
       "      <td>57409100</td>\n",
       "    </tr>\n",
       "  </tbody>\n",
       "</table>\n",
       "<p>2518 rows × 6 columns</p>\n",
       "</div>"
      ],
      "text/plain": [
       "                  Open        High         Low       Close   Adj Close  \\\n",
       "Date                                                                     \n",
       "2013-02-12   17.125357   17.227858   16.705000   16.710714   14.432730   \n",
       "2013-02-13   16.686071   16.915714   16.543571   16.678928   14.405276   \n",
       "2013-02-14   16.590000   16.844286   16.572144   16.663929   14.392319   \n",
       "2013-02-15   16.744642   16.791430   16.425714   16.434286   14.193984   \n",
       "2013-02-19   16.467857   16.526072   16.208929   16.428213   14.188736   \n",
       "...                ...         ...         ...         ...         ...   \n",
       "2023-02-06  152.570007  153.100006  150.779999  151.729996  151.498688   \n",
       "2023-02-07  150.639999  155.229996  150.639999  154.649994  154.414230   \n",
       "2023-02-08  153.880005  154.580002  151.169998  151.919998  151.688400   \n",
       "2023-02-09  153.779999  154.330002  150.419998  150.869995  150.639999   \n",
       "2023-02-10  149.460007  151.339996  149.220001  151.009995  151.009995   \n",
       "\n",
       "               Volume  \n",
       "Date                   \n",
       "2013-02-12  609053200  \n",
       "2013-02-13  475207600  \n",
       "2013-02-14  355275200  \n",
       "2013-02-15  391745200  \n",
       "2013-02-19  435783600  \n",
       "...               ...  \n",
       "2023-02-06   69858300  \n",
       "2023-02-07   83322600  \n",
       "2023-02-08   64120100  \n",
       "2023-02-09   56007100  \n",
       "2023-02-10   57409100  \n",
       "\n",
       "[2518 rows x 6 columns]"
      ]
     },
     "execution_count": 38,
     "metadata": {},
     "output_type": "execute_result"
    }
   ],
   "source": [
    "path = r\"/home/harshit/Desktop/PythonDA/datasets/AAPL.csv\"\n",
    "\n",
    "df = pd.read_csv(path, index_col=\"Date\", parse_dates=True)\n",
    "\n",
    "df #YYYY-MM-DD"
   ]
  },
  {
   "attachments": {},
   "cell_type": "markdown",
   "metadata": {},
   "source": [
    "### Performance of APPLE INC. in the following times\n",
    "\n",
    "        - year on year (annual)\n",
    "        - Month-wise (which month has better numbers)\n",
    "        - Quarter wise : (3 month period. Jan-March-Q1, APR-JUNE-Q2, JULY-SEP-Q3, OCT-DEC-Q4)\n",
    "        - Custom period (multiple months or quarters)"
   ]
  },
  {
   "attachments": {},
   "cell_type": "markdown",
   "metadata": {},
   "source": [
    "### make sure 1 calendar year is grouped together"
   ]
  },
  {
   "cell_type": "code",
   "execution_count": 39,
   "metadata": {},
   "outputs": [
    {
     "data": {
      "text/html": [
       "<div>\n",
       "<style scoped>\n",
       "    .dataframe tbody tr th:only-of-type {\n",
       "        vertical-align: middle;\n",
       "    }\n",
       "\n",
       "    .dataframe tbody tr th {\n",
       "        vertical-align: top;\n",
       "    }\n",
       "\n",
       "    .dataframe thead th {\n",
       "        text-align: right;\n",
       "    }\n",
       "</style>\n",
       "<table border=\"1\" class=\"dataframe\">\n",
       "  <thead>\n",
       "    <tr style=\"text-align: right;\">\n",
       "      <th></th>\n",
       "      <th>Open_min</th>\n",
       "      <th>Open_max</th>\n",
       "      <th>Open_mean</th>\n",
       "      <th>Volume_min</th>\n",
       "      <th>Volume_max</th>\n",
       "      <th>Volume_mean</th>\n",
       "    </tr>\n",
       "    <tr>\n",
       "      <th>Year</th>\n",
       "      <th></th>\n",
       "      <th></th>\n",
       "      <th></th>\n",
       "      <th></th>\n",
       "      <th></th>\n",
       "      <th></th>\n",
       "    </tr>\n",
       "  </thead>\n",
       "  <tbody>\n",
       "    <tr>\n",
       "      <th>2013</th>\n",
       "      <td>13.856071</td>\n",
       "      <td>20.451786</td>\n",
       "      <td>16.820671</td>\n",
       "      <td>167554800</td>\n",
       "      <td>969651200</td>\n",
       "      <td>3.806217e+08</td>\n",
       "    </tr>\n",
       "    <tr>\n",
       "      <th>2014</th>\n",
       "      <td>17.684999</td>\n",
       "      <td>29.817499</td>\n",
       "      <td>23.054958</td>\n",
       "      <td>57918400</td>\n",
       "      <td>1065523200</td>\n",
       "      <td>2.526109e+08</td>\n",
       "    </tr>\n",
       "    <tr>\n",
       "      <th>2015</th>\n",
       "      <td>23.717501</td>\n",
       "      <td>33.615002</td>\n",
       "      <td>30.043938</td>\n",
       "      <td>52185600</td>\n",
       "      <td>648825200</td>\n",
       "      <td>2.073976e+08</td>\n",
       "    </tr>\n",
       "    <tr>\n",
       "      <th>2016</th>\n",
       "      <td>22.500000</td>\n",
       "      <td>29.545000</td>\n",
       "      <td>26.126944</td>\n",
       "      <td>45903600</td>\n",
       "      <td>533478800</td>\n",
       "      <td>1.536901e+08</td>\n",
       "    </tr>\n",
       "    <tr>\n",
       "      <th>2017</th>\n",
       "      <td>28.950001</td>\n",
       "      <td>43.777500</td>\n",
       "      <td>37.611225</td>\n",
       "      <td>56106800</td>\n",
       "      <td>447940000</td>\n",
       "      <td>1.085383e+08</td>\n",
       "    </tr>\n",
       "    <tr>\n",
       "      <th>2018</th>\n",
       "      <td>37.037498</td>\n",
       "      <td>57.695000</td>\n",
       "      <td>47.277859</td>\n",
       "      <td>50055600</td>\n",
       "      <td>384986800</td>\n",
       "      <td>1.360803e+08</td>\n",
       "    </tr>\n",
       "    <tr>\n",
       "      <th>2019</th>\n",
       "      <td>35.994999</td>\n",
       "      <td>72.779999</td>\n",
       "      <td>51.967272</td>\n",
       "      <td>45448000</td>\n",
       "      <td>365248800</td>\n",
       "      <td>1.121228e+08</td>\n",
       "    </tr>\n",
       "    <tr>\n",
       "      <th>2020</th>\n",
       "      <td>57.020000</td>\n",
       "      <td>138.050003</td>\n",
       "      <td>95.267668</td>\n",
       "      <td>46691300</td>\n",
       "      <td>426510000</td>\n",
       "      <td>1.575646e+08</td>\n",
       "    </tr>\n",
       "    <tr>\n",
       "      <th>2021</th>\n",
       "      <td>119.029999</td>\n",
       "      <td>181.119995</td>\n",
       "      <td>140.861866</td>\n",
       "      <td>41000000</td>\n",
       "      <td>195432700</td>\n",
       "      <td>9.052463e+07</td>\n",
       "    </tr>\n",
       "    <tr>\n",
       "      <th>2022</th>\n",
       "      <td>127.989998</td>\n",
       "      <td>182.630005</td>\n",
       "      <td>154.802709</td>\n",
       "      <td>35195900</td>\n",
       "      <td>182602000</td>\n",
       "      <td>8.791008e+07</td>\n",
       "    </tr>\n",
       "    <tr>\n",
       "      <th>2023</th>\n",
       "      <td>126.010002</td>\n",
       "      <td>153.880005</td>\n",
       "      <td>139.419643</td>\n",
       "      <td>54105100</td>\n",
       "      <td>154279900</td>\n",
       "      <td>7.586493e+07</td>\n",
       "    </tr>\n",
       "  </tbody>\n",
       "</table>\n",
       "</div>"
      ],
      "text/plain": [
       "        Open_min    Open_max   Open_mean  Volume_min  Volume_max   Volume_mean\n",
       "Year                                                                          \n",
       "2013   13.856071   20.451786   16.820671   167554800   969651200  3.806217e+08\n",
       "2014   17.684999   29.817499   23.054958    57918400  1065523200  2.526109e+08\n",
       "2015   23.717501   33.615002   30.043938    52185600   648825200  2.073976e+08\n",
       "2016   22.500000   29.545000   26.126944    45903600   533478800  1.536901e+08\n",
       "2017   28.950001   43.777500   37.611225    56106800   447940000  1.085383e+08\n",
       "2018   37.037498   57.695000   47.277859    50055600   384986800  1.360803e+08\n",
       "2019   35.994999   72.779999   51.967272    45448000   365248800  1.121228e+08\n",
       "2020   57.020000  138.050003   95.267668    46691300   426510000  1.575646e+08\n",
       "2021  119.029999  181.119995  140.861866    41000000   195432700  9.052463e+07\n",
       "2022  127.989998  182.630005  154.802709    35195900   182602000  8.791008e+07\n",
       "2023  126.010002  153.880005  139.419643    54105100   154279900  7.586493e+07"
      ]
     },
     "execution_count": 39,
     "metadata": {},
     "output_type": "execute_result"
    }
   ],
   "source": [
    "# Find min, max and average Open and volume (yearly resample)\n",
    "\n",
    "result = df.resample(  \"Y\"  ) [  [\"Open\",\"Volume\"]  ] .agg(  [\"min\",\"max\",\"mean\"]  )\n",
    "\n",
    "#join column headers \n",
    "names = [    \"_\".join(col) for col in result.columns      ]\n",
    "\n",
    "#replace original columns with joined columns\n",
    "result.columns = names\n",
    "\n",
    "#extract only year part from index\n",
    "result.index = result.index.year\n",
    "\n",
    "#change name of index axis\n",
    "result = result.rename_axis(\"Year\")\n",
    "\n",
    "result"
   ]
  },
  {
   "cell_type": "code",
   "execution_count": 41,
   "metadata": {},
   "outputs": [
    {
     "data": {
      "application/vnd.plotly.v1+json": {
       "config": {
        "plotlyServerURL": "https://plot.ly"
       },
       "data": [
        {
         "hovertemplate": "variable=Open_min<br>Year=%{x}<br>value=%{y}<extra></extra>",
         "legendgroup": "Open_min",
         "line": {
          "color": "#636efa",
          "dash": "solid"
         },
         "marker": {
          "symbol": "circle"
         },
         "mode": "lines+markers",
         "name": "Open_min",
         "orientation": "v",
         "showlegend": true,
         "type": "scatter",
         "x": [
          2013,
          2014,
          2015,
          2016,
          2017,
          2018,
          2019,
          2020,
          2021,
          2022,
          2023
         ],
         "xaxis": "x",
         "y": [
          13.856071,
          17.684999,
          23.717501,
          22.5,
          28.950001,
          37.037498,
          35.994999,
          57.02,
          119.029999,
          127.989998,
          126.010002
         ],
         "yaxis": "y"
        },
        {
         "hovertemplate": "variable=Open_max<br>Year=%{x}<br>value=%{y}<extra></extra>",
         "legendgroup": "Open_max",
         "line": {
          "color": "#EF553B",
          "dash": "solid"
         },
         "marker": {
          "symbol": "circle"
         },
         "mode": "lines+markers",
         "name": "Open_max",
         "orientation": "v",
         "showlegend": true,
         "type": "scatter",
         "x": [
          2013,
          2014,
          2015,
          2016,
          2017,
          2018,
          2019,
          2020,
          2021,
          2022,
          2023
         ],
         "xaxis": "x",
         "y": [
          20.451786,
          29.817499,
          33.615002,
          29.545,
          43.7775,
          57.695,
          72.779999,
          138.050003,
          181.119995,
          182.630005,
          153.880005
         ],
         "yaxis": "y"
        },
        {
         "hovertemplate": "variable=Open_mean<br>Year=%{x}<br>value=%{y}<extra></extra>",
         "legendgroup": "Open_mean",
         "line": {
          "color": "#00cc96",
          "dash": "solid"
         },
         "marker": {
          "symbol": "circle"
         },
         "mode": "lines+markers",
         "name": "Open_mean",
         "orientation": "v",
         "showlegend": true,
         "type": "scatter",
         "x": [
          2013,
          2014,
          2015,
          2016,
          2017,
          2018,
          2019,
          2020,
          2021,
          2022,
          2023
         ],
         "xaxis": "x",
         "y": [
          16.820671205357144,
          23.05495757142857,
          30.043938484126986,
          26.126944416666667,
          37.611225123505974,
          47.27785866533864,
          51.9672716984127,
          95.26766817391304,
          140.86186559920637,
          154.80270930278886,
          139.41964342857142
         ],
         "yaxis": "y"
        }
       ],
       "layout": {
        "legend": {
         "title": {
          "text": "variable"
         },
         "tracegroupgap": 0
        },
        "margin": {
         "t": 60
        },
        "template": {
         "data": {
          "bar": [
           {
            "error_x": {
             "color": "#2a3f5f"
            },
            "error_y": {
             "color": "#2a3f5f"
            },
            "marker": {
             "line": {
              "color": "#E5ECF6",
              "width": 0.5
             },
             "pattern": {
              "fillmode": "overlay",
              "size": 10,
              "solidity": 0.2
             }
            },
            "type": "bar"
           }
          ],
          "barpolar": [
           {
            "marker": {
             "line": {
              "color": "#E5ECF6",
              "width": 0.5
             },
             "pattern": {
              "fillmode": "overlay",
              "size": 10,
              "solidity": 0.2
             }
            },
            "type": "barpolar"
           }
          ],
          "carpet": [
           {
            "aaxis": {
             "endlinecolor": "#2a3f5f",
             "gridcolor": "white",
             "linecolor": "white",
             "minorgridcolor": "white",
             "startlinecolor": "#2a3f5f"
            },
            "baxis": {
             "endlinecolor": "#2a3f5f",
             "gridcolor": "white",
             "linecolor": "white",
             "minorgridcolor": "white",
             "startlinecolor": "#2a3f5f"
            },
            "type": "carpet"
           }
          ],
          "choropleth": [
           {
            "colorbar": {
             "outlinewidth": 0,
             "ticks": ""
            },
            "type": "choropleth"
           }
          ],
          "contour": [
           {
            "colorbar": {
             "outlinewidth": 0,
             "ticks": ""
            },
            "colorscale": [
             [
              0,
              "#0d0887"
             ],
             [
              0.1111111111111111,
              "#46039f"
             ],
             [
              0.2222222222222222,
              "#7201a8"
             ],
             [
              0.3333333333333333,
              "#9c179e"
             ],
             [
              0.4444444444444444,
              "#bd3786"
             ],
             [
              0.5555555555555556,
              "#d8576b"
             ],
             [
              0.6666666666666666,
              "#ed7953"
             ],
             [
              0.7777777777777778,
              "#fb9f3a"
             ],
             [
              0.8888888888888888,
              "#fdca26"
             ],
             [
              1,
              "#f0f921"
             ]
            ],
            "type": "contour"
           }
          ],
          "contourcarpet": [
           {
            "colorbar": {
             "outlinewidth": 0,
             "ticks": ""
            },
            "type": "contourcarpet"
           }
          ],
          "heatmap": [
           {
            "colorbar": {
             "outlinewidth": 0,
             "ticks": ""
            },
            "colorscale": [
             [
              0,
              "#0d0887"
             ],
             [
              0.1111111111111111,
              "#46039f"
             ],
             [
              0.2222222222222222,
              "#7201a8"
             ],
             [
              0.3333333333333333,
              "#9c179e"
             ],
             [
              0.4444444444444444,
              "#bd3786"
             ],
             [
              0.5555555555555556,
              "#d8576b"
             ],
             [
              0.6666666666666666,
              "#ed7953"
             ],
             [
              0.7777777777777778,
              "#fb9f3a"
             ],
             [
              0.8888888888888888,
              "#fdca26"
             ],
             [
              1,
              "#f0f921"
             ]
            ],
            "type": "heatmap"
           }
          ],
          "heatmapgl": [
           {
            "colorbar": {
             "outlinewidth": 0,
             "ticks": ""
            },
            "colorscale": [
             [
              0,
              "#0d0887"
             ],
             [
              0.1111111111111111,
              "#46039f"
             ],
             [
              0.2222222222222222,
              "#7201a8"
             ],
             [
              0.3333333333333333,
              "#9c179e"
             ],
             [
              0.4444444444444444,
              "#bd3786"
             ],
             [
              0.5555555555555556,
              "#d8576b"
             ],
             [
              0.6666666666666666,
              "#ed7953"
             ],
             [
              0.7777777777777778,
              "#fb9f3a"
             ],
             [
              0.8888888888888888,
              "#fdca26"
             ],
             [
              1,
              "#f0f921"
             ]
            ],
            "type": "heatmapgl"
           }
          ],
          "histogram": [
           {
            "marker": {
             "pattern": {
              "fillmode": "overlay",
              "size": 10,
              "solidity": 0.2
             }
            },
            "type": "histogram"
           }
          ],
          "histogram2d": [
           {
            "colorbar": {
             "outlinewidth": 0,
             "ticks": ""
            },
            "colorscale": [
             [
              0,
              "#0d0887"
             ],
             [
              0.1111111111111111,
              "#46039f"
             ],
             [
              0.2222222222222222,
              "#7201a8"
             ],
             [
              0.3333333333333333,
              "#9c179e"
             ],
             [
              0.4444444444444444,
              "#bd3786"
             ],
             [
              0.5555555555555556,
              "#d8576b"
             ],
             [
              0.6666666666666666,
              "#ed7953"
             ],
             [
              0.7777777777777778,
              "#fb9f3a"
             ],
             [
              0.8888888888888888,
              "#fdca26"
             ],
             [
              1,
              "#f0f921"
             ]
            ],
            "type": "histogram2d"
           }
          ],
          "histogram2dcontour": [
           {
            "colorbar": {
             "outlinewidth": 0,
             "ticks": ""
            },
            "colorscale": [
             [
              0,
              "#0d0887"
             ],
             [
              0.1111111111111111,
              "#46039f"
             ],
             [
              0.2222222222222222,
              "#7201a8"
             ],
             [
              0.3333333333333333,
              "#9c179e"
             ],
             [
              0.4444444444444444,
              "#bd3786"
             ],
             [
              0.5555555555555556,
              "#d8576b"
             ],
             [
              0.6666666666666666,
              "#ed7953"
             ],
             [
              0.7777777777777778,
              "#fb9f3a"
             ],
             [
              0.8888888888888888,
              "#fdca26"
             ],
             [
              1,
              "#f0f921"
             ]
            ],
            "type": "histogram2dcontour"
           }
          ],
          "mesh3d": [
           {
            "colorbar": {
             "outlinewidth": 0,
             "ticks": ""
            },
            "type": "mesh3d"
           }
          ],
          "parcoords": [
           {
            "line": {
             "colorbar": {
              "outlinewidth": 0,
              "ticks": ""
             }
            },
            "type": "parcoords"
           }
          ],
          "pie": [
           {
            "automargin": true,
            "type": "pie"
           }
          ],
          "scatter": [
           {
            "fillpattern": {
             "fillmode": "overlay",
             "size": 10,
             "solidity": 0.2
            },
            "type": "scatter"
           }
          ],
          "scatter3d": [
           {
            "line": {
             "colorbar": {
              "outlinewidth": 0,
              "ticks": ""
             }
            },
            "marker": {
             "colorbar": {
              "outlinewidth": 0,
              "ticks": ""
             }
            },
            "type": "scatter3d"
           }
          ],
          "scattercarpet": [
           {
            "marker": {
             "colorbar": {
              "outlinewidth": 0,
              "ticks": ""
             }
            },
            "type": "scattercarpet"
           }
          ],
          "scattergeo": [
           {
            "marker": {
             "colorbar": {
              "outlinewidth": 0,
              "ticks": ""
             }
            },
            "type": "scattergeo"
           }
          ],
          "scattergl": [
           {
            "marker": {
             "colorbar": {
              "outlinewidth": 0,
              "ticks": ""
             }
            },
            "type": "scattergl"
           }
          ],
          "scattermapbox": [
           {
            "marker": {
             "colorbar": {
              "outlinewidth": 0,
              "ticks": ""
             }
            },
            "type": "scattermapbox"
           }
          ],
          "scatterpolar": [
           {
            "marker": {
             "colorbar": {
              "outlinewidth": 0,
              "ticks": ""
             }
            },
            "type": "scatterpolar"
           }
          ],
          "scatterpolargl": [
           {
            "marker": {
             "colorbar": {
              "outlinewidth": 0,
              "ticks": ""
             }
            },
            "type": "scatterpolargl"
           }
          ],
          "scatterternary": [
           {
            "marker": {
             "colorbar": {
              "outlinewidth": 0,
              "ticks": ""
             }
            },
            "type": "scatterternary"
           }
          ],
          "surface": [
           {
            "colorbar": {
             "outlinewidth": 0,
             "ticks": ""
            },
            "colorscale": [
             [
              0,
              "#0d0887"
             ],
             [
              0.1111111111111111,
              "#46039f"
             ],
             [
              0.2222222222222222,
              "#7201a8"
             ],
             [
              0.3333333333333333,
              "#9c179e"
             ],
             [
              0.4444444444444444,
              "#bd3786"
             ],
             [
              0.5555555555555556,
              "#d8576b"
             ],
             [
              0.6666666666666666,
              "#ed7953"
             ],
             [
              0.7777777777777778,
              "#fb9f3a"
             ],
             [
              0.8888888888888888,
              "#fdca26"
             ],
             [
              1,
              "#f0f921"
             ]
            ],
            "type": "surface"
           }
          ],
          "table": [
           {
            "cells": {
             "fill": {
              "color": "#EBF0F8"
             },
             "line": {
              "color": "white"
             }
            },
            "header": {
             "fill": {
              "color": "#C8D4E3"
             },
             "line": {
              "color": "white"
             }
            },
            "type": "table"
           }
          ]
         },
         "layout": {
          "annotationdefaults": {
           "arrowcolor": "#2a3f5f",
           "arrowhead": 0,
           "arrowwidth": 1
          },
          "autotypenumbers": "strict",
          "coloraxis": {
           "colorbar": {
            "outlinewidth": 0,
            "ticks": ""
           }
          },
          "colorscale": {
           "diverging": [
            [
             0,
             "#8e0152"
            ],
            [
             0.1,
             "#c51b7d"
            ],
            [
             0.2,
             "#de77ae"
            ],
            [
             0.3,
             "#f1b6da"
            ],
            [
             0.4,
             "#fde0ef"
            ],
            [
             0.5,
             "#f7f7f7"
            ],
            [
             0.6,
             "#e6f5d0"
            ],
            [
             0.7,
             "#b8e186"
            ],
            [
             0.8,
             "#7fbc41"
            ],
            [
             0.9,
             "#4d9221"
            ],
            [
             1,
             "#276419"
            ]
           ],
           "sequential": [
            [
             0,
             "#0d0887"
            ],
            [
             0.1111111111111111,
             "#46039f"
            ],
            [
             0.2222222222222222,
             "#7201a8"
            ],
            [
             0.3333333333333333,
             "#9c179e"
            ],
            [
             0.4444444444444444,
             "#bd3786"
            ],
            [
             0.5555555555555556,
             "#d8576b"
            ],
            [
             0.6666666666666666,
             "#ed7953"
            ],
            [
             0.7777777777777778,
             "#fb9f3a"
            ],
            [
             0.8888888888888888,
             "#fdca26"
            ],
            [
             1,
             "#f0f921"
            ]
           ],
           "sequentialminus": [
            [
             0,
             "#0d0887"
            ],
            [
             0.1111111111111111,
             "#46039f"
            ],
            [
             0.2222222222222222,
             "#7201a8"
            ],
            [
             0.3333333333333333,
             "#9c179e"
            ],
            [
             0.4444444444444444,
             "#bd3786"
            ],
            [
             0.5555555555555556,
             "#d8576b"
            ],
            [
             0.6666666666666666,
             "#ed7953"
            ],
            [
             0.7777777777777778,
             "#fb9f3a"
            ],
            [
             0.8888888888888888,
             "#fdca26"
            ],
            [
             1,
             "#f0f921"
            ]
           ]
          },
          "colorway": [
           "#636efa",
           "#EF553B",
           "#00cc96",
           "#ab63fa",
           "#FFA15A",
           "#19d3f3",
           "#FF6692",
           "#B6E880",
           "#FF97FF",
           "#FECB52"
          ],
          "font": {
           "color": "#2a3f5f"
          },
          "geo": {
           "bgcolor": "white",
           "lakecolor": "white",
           "landcolor": "#E5ECF6",
           "showlakes": true,
           "showland": true,
           "subunitcolor": "white"
          },
          "hoverlabel": {
           "align": "left"
          },
          "hovermode": "closest",
          "mapbox": {
           "style": "light"
          },
          "paper_bgcolor": "white",
          "plot_bgcolor": "#E5ECF6",
          "polar": {
           "angularaxis": {
            "gridcolor": "white",
            "linecolor": "white",
            "ticks": ""
           },
           "bgcolor": "#E5ECF6",
           "radialaxis": {
            "gridcolor": "white",
            "linecolor": "white",
            "ticks": ""
           }
          },
          "scene": {
           "xaxis": {
            "backgroundcolor": "#E5ECF6",
            "gridcolor": "white",
            "gridwidth": 2,
            "linecolor": "white",
            "showbackground": true,
            "ticks": "",
            "zerolinecolor": "white"
           },
           "yaxis": {
            "backgroundcolor": "#E5ECF6",
            "gridcolor": "white",
            "gridwidth": 2,
            "linecolor": "white",
            "showbackground": true,
            "ticks": "",
            "zerolinecolor": "white"
           },
           "zaxis": {
            "backgroundcolor": "#E5ECF6",
            "gridcolor": "white",
            "gridwidth": 2,
            "linecolor": "white",
            "showbackground": true,
            "ticks": "",
            "zerolinecolor": "white"
           }
          },
          "shapedefaults": {
           "line": {
            "color": "#2a3f5f"
           }
          },
          "ternary": {
           "aaxis": {
            "gridcolor": "white",
            "linecolor": "white",
            "ticks": ""
           },
           "baxis": {
            "gridcolor": "white",
            "linecolor": "white",
            "ticks": ""
           },
           "bgcolor": "#E5ECF6",
           "caxis": {
            "gridcolor": "white",
            "linecolor": "white",
            "ticks": ""
           }
          },
          "title": {
           "x": 0.05
          },
          "xaxis": {
           "automargin": true,
           "gridcolor": "white",
           "linecolor": "white",
           "ticks": "",
           "title": {
            "standoff": 15
           },
           "zerolinecolor": "white",
           "zerolinewidth": 2
          },
          "yaxis": {
           "automargin": true,
           "gridcolor": "white",
           "linecolor": "white",
           "ticks": "",
           "title": {
            "standoff": 15
           },
           "zerolinecolor": "white",
           "zerolinewidth": 2
          }
         }
        },
        "xaxis": {
         "anchor": "y",
         "domain": [
          0,
          1
         ],
         "title": {
          "text": "Year"
         }
        },
        "yaxis": {
         "anchor": "x",
         "domain": [
          0,
          1
         ],
         "title": {
          "text": "value"
         }
        }
       }
      }
     },
     "metadata": {},
     "output_type": "display_data"
    },
    {
     "data": {
      "application/vnd.plotly.v1+json": {
       "config": {
        "plotlyServerURL": "https://plot.ly"
       },
       "data": [
        {
         "hovertemplate": "variable=Volume_min<br>Year=%{x}<br>value=%{y}<extra></extra>",
         "legendgroup": "Volume_min",
         "line": {
          "color": "#636efa",
          "dash": "solid"
         },
         "marker": {
          "symbol": "circle"
         },
         "mode": "lines+markers",
         "name": "Volume_min",
         "orientation": "v",
         "showlegend": true,
         "type": "scatter",
         "x": [
          2013,
          2014,
          2015,
          2016,
          2017,
          2018,
          2019,
          2020,
          2021,
          2022,
          2023
         ],
         "xaxis": "x",
         "y": [
          167554800,
          57918400,
          52185600,
          45903600,
          56106800,
          50055600,
          45448000,
          46691300,
          41000000,
          35195900,
          54105100
         ],
         "yaxis": "y"
        },
        {
         "hovertemplate": "variable=Volume_max<br>Year=%{x}<br>value=%{y}<extra></extra>",
         "legendgroup": "Volume_max",
         "line": {
          "color": "#EF553B",
          "dash": "solid"
         },
         "marker": {
          "symbol": "circle"
         },
         "mode": "lines+markers",
         "name": "Volume_max",
         "orientation": "v",
         "showlegend": true,
         "type": "scatter",
         "x": [
          2013,
          2014,
          2015,
          2016,
          2017,
          2018,
          2019,
          2020,
          2021,
          2022,
          2023
         ],
         "xaxis": "x",
         "y": [
          969651200,
          1065523200,
          648825200,
          533478800,
          447940000,
          384986800,
          365248800,
          426510000,
          195432700,
          182602000,
          154279900
         ],
         "yaxis": "y"
        },
        {
         "hovertemplate": "variable=Volume_mean<br>Year=%{x}<br>value=%{y}<extra></extra>",
         "legendgroup": "Volume_mean",
         "line": {
          "color": "#00cc96",
          "dash": "solid"
         },
         "marker": {
          "symbol": "circle"
         },
         "mode": "lines+markers",
         "name": "Volume_mean",
         "orientation": "v",
         "showlegend": true,
         "type": "scatter",
         "x": [
          2013,
          2014,
          2015,
          2016,
          2017,
          2018,
          2019,
          2020,
          2021,
          2022,
          2023
         ],
         "xaxis": "x",
         "y": [
          380621700,
          252610922.2222222,
          207397617.46031746,
          153690123.80952382,
          108538270.91633466,
          136080258.16733068,
          112122788.8888889,
          157564646.64031622,
          90524627.38095239,
          87910083.26693226,
          75864928.57142857
         ],
         "yaxis": "y"
        }
       ],
       "layout": {
        "legend": {
         "title": {
          "text": "variable"
         },
         "tracegroupgap": 0
        },
        "margin": {
         "t": 60
        },
        "template": {
         "data": {
          "bar": [
           {
            "error_x": {
             "color": "#2a3f5f"
            },
            "error_y": {
             "color": "#2a3f5f"
            },
            "marker": {
             "line": {
              "color": "#E5ECF6",
              "width": 0.5
             },
             "pattern": {
              "fillmode": "overlay",
              "size": 10,
              "solidity": 0.2
             }
            },
            "type": "bar"
           }
          ],
          "barpolar": [
           {
            "marker": {
             "line": {
              "color": "#E5ECF6",
              "width": 0.5
             },
             "pattern": {
              "fillmode": "overlay",
              "size": 10,
              "solidity": 0.2
             }
            },
            "type": "barpolar"
           }
          ],
          "carpet": [
           {
            "aaxis": {
             "endlinecolor": "#2a3f5f",
             "gridcolor": "white",
             "linecolor": "white",
             "minorgridcolor": "white",
             "startlinecolor": "#2a3f5f"
            },
            "baxis": {
             "endlinecolor": "#2a3f5f",
             "gridcolor": "white",
             "linecolor": "white",
             "minorgridcolor": "white",
             "startlinecolor": "#2a3f5f"
            },
            "type": "carpet"
           }
          ],
          "choropleth": [
           {
            "colorbar": {
             "outlinewidth": 0,
             "ticks": ""
            },
            "type": "choropleth"
           }
          ],
          "contour": [
           {
            "colorbar": {
             "outlinewidth": 0,
             "ticks": ""
            },
            "colorscale": [
             [
              0,
              "#0d0887"
             ],
             [
              0.1111111111111111,
              "#46039f"
             ],
             [
              0.2222222222222222,
              "#7201a8"
             ],
             [
              0.3333333333333333,
              "#9c179e"
             ],
             [
              0.4444444444444444,
              "#bd3786"
             ],
             [
              0.5555555555555556,
              "#d8576b"
             ],
             [
              0.6666666666666666,
              "#ed7953"
             ],
             [
              0.7777777777777778,
              "#fb9f3a"
             ],
             [
              0.8888888888888888,
              "#fdca26"
             ],
             [
              1,
              "#f0f921"
             ]
            ],
            "type": "contour"
           }
          ],
          "contourcarpet": [
           {
            "colorbar": {
             "outlinewidth": 0,
             "ticks": ""
            },
            "type": "contourcarpet"
           }
          ],
          "heatmap": [
           {
            "colorbar": {
             "outlinewidth": 0,
             "ticks": ""
            },
            "colorscale": [
             [
              0,
              "#0d0887"
             ],
             [
              0.1111111111111111,
              "#46039f"
             ],
             [
              0.2222222222222222,
              "#7201a8"
             ],
             [
              0.3333333333333333,
              "#9c179e"
             ],
             [
              0.4444444444444444,
              "#bd3786"
             ],
             [
              0.5555555555555556,
              "#d8576b"
             ],
             [
              0.6666666666666666,
              "#ed7953"
             ],
             [
              0.7777777777777778,
              "#fb9f3a"
             ],
             [
              0.8888888888888888,
              "#fdca26"
             ],
             [
              1,
              "#f0f921"
             ]
            ],
            "type": "heatmap"
           }
          ],
          "heatmapgl": [
           {
            "colorbar": {
             "outlinewidth": 0,
             "ticks": ""
            },
            "colorscale": [
             [
              0,
              "#0d0887"
             ],
             [
              0.1111111111111111,
              "#46039f"
             ],
             [
              0.2222222222222222,
              "#7201a8"
             ],
             [
              0.3333333333333333,
              "#9c179e"
             ],
             [
              0.4444444444444444,
              "#bd3786"
             ],
             [
              0.5555555555555556,
              "#d8576b"
             ],
             [
              0.6666666666666666,
              "#ed7953"
             ],
             [
              0.7777777777777778,
              "#fb9f3a"
             ],
             [
              0.8888888888888888,
              "#fdca26"
             ],
             [
              1,
              "#f0f921"
             ]
            ],
            "type": "heatmapgl"
           }
          ],
          "histogram": [
           {
            "marker": {
             "pattern": {
              "fillmode": "overlay",
              "size": 10,
              "solidity": 0.2
             }
            },
            "type": "histogram"
           }
          ],
          "histogram2d": [
           {
            "colorbar": {
             "outlinewidth": 0,
             "ticks": ""
            },
            "colorscale": [
             [
              0,
              "#0d0887"
             ],
             [
              0.1111111111111111,
              "#46039f"
             ],
             [
              0.2222222222222222,
              "#7201a8"
             ],
             [
              0.3333333333333333,
              "#9c179e"
             ],
             [
              0.4444444444444444,
              "#bd3786"
             ],
             [
              0.5555555555555556,
              "#d8576b"
             ],
             [
              0.6666666666666666,
              "#ed7953"
             ],
             [
              0.7777777777777778,
              "#fb9f3a"
             ],
             [
              0.8888888888888888,
              "#fdca26"
             ],
             [
              1,
              "#f0f921"
             ]
            ],
            "type": "histogram2d"
           }
          ],
          "histogram2dcontour": [
           {
            "colorbar": {
             "outlinewidth": 0,
             "ticks": ""
            },
            "colorscale": [
             [
              0,
              "#0d0887"
             ],
             [
              0.1111111111111111,
              "#46039f"
             ],
             [
              0.2222222222222222,
              "#7201a8"
             ],
             [
              0.3333333333333333,
              "#9c179e"
             ],
             [
              0.4444444444444444,
              "#bd3786"
             ],
             [
              0.5555555555555556,
              "#d8576b"
             ],
             [
              0.6666666666666666,
              "#ed7953"
             ],
             [
              0.7777777777777778,
              "#fb9f3a"
             ],
             [
              0.8888888888888888,
              "#fdca26"
             ],
             [
              1,
              "#f0f921"
             ]
            ],
            "type": "histogram2dcontour"
           }
          ],
          "mesh3d": [
           {
            "colorbar": {
             "outlinewidth": 0,
             "ticks": ""
            },
            "type": "mesh3d"
           }
          ],
          "parcoords": [
           {
            "line": {
             "colorbar": {
              "outlinewidth": 0,
              "ticks": ""
             }
            },
            "type": "parcoords"
           }
          ],
          "pie": [
           {
            "automargin": true,
            "type": "pie"
           }
          ],
          "scatter": [
           {
            "fillpattern": {
             "fillmode": "overlay",
             "size": 10,
             "solidity": 0.2
            },
            "type": "scatter"
           }
          ],
          "scatter3d": [
           {
            "line": {
             "colorbar": {
              "outlinewidth": 0,
              "ticks": ""
             }
            },
            "marker": {
             "colorbar": {
              "outlinewidth": 0,
              "ticks": ""
             }
            },
            "type": "scatter3d"
           }
          ],
          "scattercarpet": [
           {
            "marker": {
             "colorbar": {
              "outlinewidth": 0,
              "ticks": ""
             }
            },
            "type": "scattercarpet"
           }
          ],
          "scattergeo": [
           {
            "marker": {
             "colorbar": {
              "outlinewidth": 0,
              "ticks": ""
             }
            },
            "type": "scattergeo"
           }
          ],
          "scattergl": [
           {
            "marker": {
             "colorbar": {
              "outlinewidth": 0,
              "ticks": ""
             }
            },
            "type": "scattergl"
           }
          ],
          "scattermapbox": [
           {
            "marker": {
             "colorbar": {
              "outlinewidth": 0,
              "ticks": ""
             }
            },
            "type": "scattermapbox"
           }
          ],
          "scatterpolar": [
           {
            "marker": {
             "colorbar": {
              "outlinewidth": 0,
              "ticks": ""
             }
            },
            "type": "scatterpolar"
           }
          ],
          "scatterpolargl": [
           {
            "marker": {
             "colorbar": {
              "outlinewidth": 0,
              "ticks": ""
             }
            },
            "type": "scatterpolargl"
           }
          ],
          "scatterternary": [
           {
            "marker": {
             "colorbar": {
              "outlinewidth": 0,
              "ticks": ""
             }
            },
            "type": "scatterternary"
           }
          ],
          "surface": [
           {
            "colorbar": {
             "outlinewidth": 0,
             "ticks": ""
            },
            "colorscale": [
             [
              0,
              "#0d0887"
             ],
             [
              0.1111111111111111,
              "#46039f"
             ],
             [
              0.2222222222222222,
              "#7201a8"
             ],
             [
              0.3333333333333333,
              "#9c179e"
             ],
             [
              0.4444444444444444,
              "#bd3786"
             ],
             [
              0.5555555555555556,
              "#d8576b"
             ],
             [
              0.6666666666666666,
              "#ed7953"
             ],
             [
              0.7777777777777778,
              "#fb9f3a"
             ],
             [
              0.8888888888888888,
              "#fdca26"
             ],
             [
              1,
              "#f0f921"
             ]
            ],
            "type": "surface"
           }
          ],
          "table": [
           {
            "cells": {
             "fill": {
              "color": "#EBF0F8"
             },
             "line": {
              "color": "white"
             }
            },
            "header": {
             "fill": {
              "color": "#C8D4E3"
             },
             "line": {
              "color": "white"
             }
            },
            "type": "table"
           }
          ]
         },
         "layout": {
          "annotationdefaults": {
           "arrowcolor": "#2a3f5f",
           "arrowhead": 0,
           "arrowwidth": 1
          },
          "autotypenumbers": "strict",
          "coloraxis": {
           "colorbar": {
            "outlinewidth": 0,
            "ticks": ""
           }
          },
          "colorscale": {
           "diverging": [
            [
             0,
             "#8e0152"
            ],
            [
             0.1,
             "#c51b7d"
            ],
            [
             0.2,
             "#de77ae"
            ],
            [
             0.3,
             "#f1b6da"
            ],
            [
             0.4,
             "#fde0ef"
            ],
            [
             0.5,
             "#f7f7f7"
            ],
            [
             0.6,
             "#e6f5d0"
            ],
            [
             0.7,
             "#b8e186"
            ],
            [
             0.8,
             "#7fbc41"
            ],
            [
             0.9,
             "#4d9221"
            ],
            [
             1,
             "#276419"
            ]
           ],
           "sequential": [
            [
             0,
             "#0d0887"
            ],
            [
             0.1111111111111111,
             "#46039f"
            ],
            [
             0.2222222222222222,
             "#7201a8"
            ],
            [
             0.3333333333333333,
             "#9c179e"
            ],
            [
             0.4444444444444444,
             "#bd3786"
            ],
            [
             0.5555555555555556,
             "#d8576b"
            ],
            [
             0.6666666666666666,
             "#ed7953"
            ],
            [
             0.7777777777777778,
             "#fb9f3a"
            ],
            [
             0.8888888888888888,
             "#fdca26"
            ],
            [
             1,
             "#f0f921"
            ]
           ],
           "sequentialminus": [
            [
             0,
             "#0d0887"
            ],
            [
             0.1111111111111111,
             "#46039f"
            ],
            [
             0.2222222222222222,
             "#7201a8"
            ],
            [
             0.3333333333333333,
             "#9c179e"
            ],
            [
             0.4444444444444444,
             "#bd3786"
            ],
            [
             0.5555555555555556,
             "#d8576b"
            ],
            [
             0.6666666666666666,
             "#ed7953"
            ],
            [
             0.7777777777777778,
             "#fb9f3a"
            ],
            [
             0.8888888888888888,
             "#fdca26"
            ],
            [
             1,
             "#f0f921"
            ]
           ]
          },
          "colorway": [
           "#636efa",
           "#EF553B",
           "#00cc96",
           "#ab63fa",
           "#FFA15A",
           "#19d3f3",
           "#FF6692",
           "#B6E880",
           "#FF97FF",
           "#FECB52"
          ],
          "font": {
           "color": "#2a3f5f"
          },
          "geo": {
           "bgcolor": "white",
           "lakecolor": "white",
           "landcolor": "#E5ECF6",
           "showlakes": true,
           "showland": true,
           "subunitcolor": "white"
          },
          "hoverlabel": {
           "align": "left"
          },
          "hovermode": "closest",
          "mapbox": {
           "style": "light"
          },
          "paper_bgcolor": "white",
          "plot_bgcolor": "#E5ECF6",
          "polar": {
           "angularaxis": {
            "gridcolor": "white",
            "linecolor": "white",
            "ticks": ""
           },
           "bgcolor": "#E5ECF6",
           "radialaxis": {
            "gridcolor": "white",
            "linecolor": "white",
            "ticks": ""
           }
          },
          "scene": {
           "xaxis": {
            "backgroundcolor": "#E5ECF6",
            "gridcolor": "white",
            "gridwidth": 2,
            "linecolor": "white",
            "showbackground": true,
            "ticks": "",
            "zerolinecolor": "white"
           },
           "yaxis": {
            "backgroundcolor": "#E5ECF6",
            "gridcolor": "white",
            "gridwidth": 2,
            "linecolor": "white",
            "showbackground": true,
            "ticks": "",
            "zerolinecolor": "white"
           },
           "zaxis": {
            "backgroundcolor": "#E5ECF6",
            "gridcolor": "white",
            "gridwidth": 2,
            "linecolor": "white",
            "showbackground": true,
            "ticks": "",
            "zerolinecolor": "white"
           }
          },
          "shapedefaults": {
           "line": {
            "color": "#2a3f5f"
           }
          },
          "ternary": {
           "aaxis": {
            "gridcolor": "white",
            "linecolor": "white",
            "ticks": ""
           },
           "baxis": {
            "gridcolor": "white",
            "linecolor": "white",
            "ticks": ""
           },
           "bgcolor": "#E5ECF6",
           "caxis": {
            "gridcolor": "white",
            "linecolor": "white",
            "ticks": ""
           }
          },
          "title": {
           "x": 0.05
          },
          "xaxis": {
           "automargin": true,
           "gridcolor": "white",
           "linecolor": "white",
           "ticks": "",
           "title": {
            "standoff": 15
           },
           "zerolinecolor": "white",
           "zerolinewidth": 2
          },
          "yaxis": {
           "automargin": true,
           "gridcolor": "white",
           "linecolor": "white",
           "ticks": "",
           "title": {
            "standoff": 15
           },
           "zerolinecolor": "white",
           "zerolinewidth": 2
          }
         }
        },
        "xaxis": {
         "anchor": "y",
         "domain": [
          0,
          1
         ],
         "title": {
          "text": "Year"
         }
        },
        "yaxis": {
         "anchor": "x",
         "domain": [
          0,
          1
         ],
         "title": {
          "text": "value"
         }
        }
       }
      }
     },
     "metadata": {},
     "output_type": "display_data"
    }
   ],
   "source": [
    "display_graph(result)"
   ]
  },
  {
   "attachments": {},
   "cell_type": "markdown",
   "metadata": {},
   "source": [
    "### Year on year, Apple share prices have mostly increased and volume of shares traded has gone down"
   ]
  },
  {
   "cell_type": "code",
   "execution_count": 42,
   "metadata": {},
   "outputs": [
    {
     "data": {
      "text/html": [
       "<div>\n",
       "<style scoped>\n",
       "    .dataframe tbody tr th:only-of-type {\n",
       "        vertical-align: middle;\n",
       "    }\n",
       "\n",
       "    .dataframe tbody tr th {\n",
       "        vertical-align: top;\n",
       "    }\n",
       "\n",
       "    .dataframe thead th {\n",
       "        text-align: right;\n",
       "    }\n",
       "</style>\n",
       "<table border=\"1\" class=\"dataframe\">\n",
       "  <thead>\n",
       "    <tr style=\"text-align: right;\">\n",
       "      <th></th>\n",
       "      <th>Open_min</th>\n",
       "      <th>Open_max</th>\n",
       "      <th>Open_mean</th>\n",
       "      <th>Volume_min</th>\n",
       "      <th>Volume_max</th>\n",
       "      <th>Volume_mean</th>\n",
       "    </tr>\n",
       "    <tr>\n",
       "      <th>Quarter</th>\n",
       "      <th></th>\n",
       "      <th></th>\n",
       "      <th></th>\n",
       "      <th></th>\n",
       "      <th></th>\n",
       "      <th></th>\n",
       "    </tr>\n",
       "  </thead>\n",
       "  <tbody>\n",
       "    <tr>\n",
       "      <th>2013_Q1</th>\n",
       "      <td>15.052857</td>\n",
       "      <td>17.125357</td>\n",
       "      <td>15.987176</td>\n",
       "      <td>294294000</td>\n",
       "      <td>643960800</td>\n",
       "      <td>4.525633e+08</td>\n",
       "    </tr>\n",
       "    <tr>\n",
       "      <th>2013_Q2</th>\n",
       "      <td>13.856071</td>\n",
       "      <td>16.606071</td>\n",
       "      <td>15.410117</td>\n",
       "      <td>195025600</td>\n",
       "      <td>969651200</td>\n",
       "      <td>4.285868e+08</td>\n",
       "    </tr>\n",
       "    <tr>\n",
       "      <th>2013_Q3</th>\n",
       "      <td>14.381786</td>\n",
       "      <td>18.203930</td>\n",
       "      <td>16.588404</td>\n",
       "      <td>198990400</td>\n",
       "      <td>898696400</td>\n",
       "      <td>3.629280e+08</td>\n",
       "    </tr>\n",
       "    <tr>\n",
       "      <th>2013_Q4</th>\n",
       "      <td>17.087500</td>\n",
       "      <td>20.451786</td>\n",
       "      <td>18.880240</td>\n",
       "      <td>167554800</td>\n",
       "      <td>635807200</td>\n",
       "      <td>3.143794e+08</td>\n",
       "    </tr>\n",
       "    <tr>\n",
       "      <th>2014_Q1</th>\n",
       "      <td>17.684999</td>\n",
       "      <td>19.845715</td>\n",
       "      <td>19.024754</td>\n",
       "      <td>168669200</td>\n",
       "      <td>1065523200</td>\n",
       "      <td>3.220987e+08</td>\n",
       "    </tr>\n",
       "    <tr>\n",
       "      <th>2014_Q2</th>\n",
       "      <td>18.501785</td>\n",
       "      <td>23.682501</td>\n",
       "      <td>21.247290</td>\n",
       "      <td>118904000</td>\n",
       "      <td>759911600</td>\n",
       "      <td>2.698170e+08</td>\n",
       "    </tr>\n",
       "    <tr>\n",
       "      <th>2014_Q3</th>\n",
       "      <td>23.379999</td>\n",
       "      <td>25.775000</td>\n",
       "      <td>24.531875</td>\n",
       "      <td>91567200</td>\n",
       "      <td>759385200</td>\n",
       "      <td>2.186614e+08</td>\n",
       "    </tr>\n",
       "    <tr>\n",
       "      <th>2014_Q4</th>\n",
       "      <td>23.887501</td>\n",
       "      <td>29.817499</td>\n",
       "      <td>27.198750</td>\n",
       "      <td>57918400</td>\n",
       "      <td>403734400</td>\n",
       "      <td>2.033927e+08</td>\n",
       "    </tr>\n",
       "    <tr>\n",
       "      <th>2015_Q1</th>\n",
       "      <td>26.635000</td>\n",
       "      <td>33.235001</td>\n",
       "      <td>30.249959</td>\n",
       "      <td>126665200</td>\n",
       "      <td>585908400</td>\n",
       "      <td>2.347830e+08</td>\n",
       "    </tr>\n",
       "    <tr>\n",
       "      <th>2015_Q2</th>\n",
       "      <td>31.117500</td>\n",
       "      <td>33.615002</td>\n",
       "      <td>32.018611</td>\n",
       "      <td>102098400</td>\n",
       "      <td>475696000</td>\n",
       "      <td>1.796123e+08</td>\n",
       "    </tr>\n",
       "    <tr>\n",
       "      <th>2015_Q3</th>\n",
       "      <td>23.717501</td>\n",
       "      <td>33.212502</td>\n",
       "      <td>29.357031</td>\n",
       "      <td>108844000</td>\n",
       "      <td>648825200</td>\n",
       "      <td>2.419779e+08</td>\n",
       "    </tr>\n",
       "    <tr>\n",
       "      <th>2015_Q4</th>\n",
       "      <td>26.740000</td>\n",
       "      <td>30.782499</td>\n",
       "      <td>28.590664</td>\n",
       "      <td>52185600</td>\n",
       "      <td>385813200</td>\n",
       "      <td>1.740667e+08</td>\n",
       "    </tr>\n",
       "    <tr>\n",
       "      <th>2016_Q1</th>\n",
       "      <td>23.282499</td>\n",
       "      <td>27.430000</td>\n",
       "      <td>24.890615</td>\n",
       "      <td>77645600</td>\n",
       "      <td>533478800</td>\n",
       "      <td>1.854925e+08</td>\n",
       "    </tr>\n",
       "    <tr>\n",
       "      <th>2016_Q2</th>\n",
       "      <td>22.500000</td>\n",
       "      <td>28.027500</td>\n",
       "      <td>24.849922</td>\n",
       "      <td>83392400</td>\n",
       "      <td>458408400</td>\n",
       "      <td>1.595346e+08</td>\n",
       "    </tr>\n",
       "    <tr>\n",
       "      <th>2016_Q3</th>\n",
       "      <td>23.650000</td>\n",
       "      <td>28.797501</td>\n",
       "      <td>26.425039</td>\n",
       "      <td>74641600</td>\n",
       "      <td>443554800</td>\n",
       "      <td>1.427452e+08</td>\n",
       "    </tr>\n",
       "    <tr>\n",
       "      <th>2016_Q4</th>\n",
       "      <td>26.642500</td>\n",
       "      <td>29.545000</td>\n",
       "      <td>28.318492</td>\n",
       "      <td>45903600</td>\n",
       "      <td>264536800</td>\n",
       "      <td>1.280788e+08</td>\n",
       "    </tr>\n",
       "    <tr>\n",
       "      <th>2017_Q1</th>\n",
       "      <td>28.950001</td>\n",
       "      <td>36.047501</td>\n",
       "      <td>32.829274</td>\n",
       "      <td>61236400</td>\n",
       "      <td>447940000</td>\n",
       "      <td>1.096593e+08</td>\n",
       "    </tr>\n",
       "    <tr>\n",
       "      <th>2017_Q2</th>\n",
       "      <td>35.305000</td>\n",
       "      <td>39.002499</td>\n",
       "      <td>36.990278</td>\n",
       "      <td>56985200</td>\n",
       "      <td>289229200</td>\n",
       "      <td>1.086644e+08</td>\n",
       "    </tr>\n",
       "    <tr>\n",
       "      <th>2017_Q3</th>\n",
       "      <td>35.724998</td>\n",
       "      <td>41.200001</td>\n",
       "      <td>38.809088</td>\n",
       "      <td>57111200</td>\n",
       "      <td>286856000</td>\n",
       "      <td>1.119654e+08</td>\n",
       "    </tr>\n",
       "    <tr>\n",
       "      <th>2017_Q4</th>\n",
       "      <td>38.407501</td>\n",
       "      <td>43.777500</td>\n",
       "      <td>41.740357</td>\n",
       "      <td>56106800</td>\n",
       "      <td>237594400</td>\n",
       "      <td>1.038818e+08</td>\n",
       "    </tr>\n",
       "    <tr>\n",
       "      <th>2018_Q1</th>\n",
       "      <td>38.707500</td>\n",
       "      <td>45.647499</td>\n",
       "      <td>43.068402</td>\n",
       "      <td>74670800</td>\n",
       "      <td>346375200</td>\n",
       "      <td>1.509050e+08</td>\n",
       "    </tr>\n",
       "    <tr>\n",
       "      <th>2018_Q2</th>\n",
       "      <td>40.532501</td>\n",
       "      <td>48.535000</td>\n",
       "      <td>45.301719</td>\n",
       "      <td>60962800</td>\n",
       "      <td>266157600</td>\n",
       "      <td>1.134222e+08</td>\n",
       "    </tr>\n",
       "    <tr>\n",
       "      <th>2018_Q3</th>\n",
       "      <td>45.955002</td>\n",
       "      <td>57.247501</td>\n",
       "      <td>52.006389</td>\n",
       "      <td>50055600</td>\n",
       "      <td>384986800</td>\n",
       "      <td>1.125703e+08</td>\n",
       "    </tr>\n",
       "    <tr>\n",
       "      <th>2018_Q4</th>\n",
       "      <td>37.037498</td>\n",
       "      <td>57.695000</td>\n",
       "      <td>48.632659</td>\n",
       "      <td>91541600</td>\n",
       "      <td>382978400</td>\n",
       "      <td>1.682538e+08</td>\n",
       "    </tr>\n",
       "    <tr>\n",
       "      <th>2019_Q1</th>\n",
       "      <td>35.994999</td>\n",
       "      <td>48.834999</td>\n",
       "      <td>42.335779</td>\n",
       "      <td>68280800</td>\n",
       "      <td>365248800</td>\n",
       "      <td>1.279744e+08</td>\n",
       "    </tr>\n",
       "    <tr>\n",
       "      <th>2019_Q2</th>\n",
       "      <td>43.860001</td>\n",
       "      <td>52.722500</td>\n",
       "      <td>48.615635</td>\n",
       "      <td>58676400</td>\n",
       "      <td>259309200</td>\n",
       "      <td>1.117964e+08</td>\n",
       "    </tr>\n",
       "    <tr>\n",
       "      <th>2019_Q3</th>\n",
       "      <td>48.852501</td>\n",
       "      <td>56.200001</td>\n",
       "      <td>52.271328</td>\n",
       "      <td>45448000</td>\n",
       "      <td>277125600</td>\n",
       "      <td>1.060938e+08</td>\n",
       "    </tr>\n",
       "    <tr>\n",
       "      <th>2019_Q4</th>\n",
       "      <td>54.607498</td>\n",
       "      <td>72.779999</td>\n",
       "      <td>64.142500</td>\n",
       "      <td>46617600</td>\n",
       "      <td>275978000</td>\n",
       "      <td>1.033646e+08</td>\n",
       "    </tr>\n",
       "    <tr>\n",
       "      <th>2020_Q1</th>\n",
       "      <td>57.020000</td>\n",
       "      <td>81.184998</td>\n",
       "      <td>73.282944</td>\n",
       "      <td>80113600</td>\n",
       "      <td>426510000</td>\n",
       "      <td>1.973181e+08</td>\n",
       "    </tr>\n",
       "    <tr>\n",
       "      <th>2020_Q2</th>\n",
       "      <td>60.084999</td>\n",
       "      <td>91.250000</td>\n",
       "      <td>77.244683</td>\n",
       "      <td>80791200</td>\n",
       "      <td>264476000</td>\n",
       "      <td>1.478510e+08</td>\n",
       "    </tr>\n",
       "    <tr>\n",
       "      <th>2020_Q3</th>\n",
       "      <td>90.987503</td>\n",
       "      <td>137.589996</td>\n",
       "      <td>109.268945</td>\n",
       "      <td>89001600</td>\n",
       "      <td>374336800</td>\n",
       "      <td>1.714936e+08</td>\n",
       "    </tr>\n",
       "    <tr>\n",
       "      <th>2020_Q4</th>\n",
       "      <td>109.110001</td>\n",
       "      <td>138.050003</td>\n",
       "      <td>120.305469</td>\n",
       "      <td>46691300</td>\n",
       "      <td>262330500</td>\n",
       "      <td>1.146865e+08</td>\n",
       "    </tr>\n",
       "    <tr>\n",
       "      <th>2021_Q1</th>\n",
       "      <td>119.029999</td>\n",
       "      <td>143.600006</td>\n",
       "      <td>128.612459</td>\n",
       "      <td>60145100</td>\n",
       "      <td>185549500</td>\n",
       "      <td>1.102383e+08</td>\n",
       "    </tr>\n",
       "    <tr>\n",
       "      <th>2021_Q2</th>\n",
       "      <td>123.160004</td>\n",
       "      <td>136.470001</td>\n",
       "      <td>129.437937</td>\n",
       "      <td>53522400</td>\n",
       "      <td>151101000</td>\n",
       "      <td>8.267274e+07</td>\n",
       "    </tr>\n",
       "    <tr>\n",
       "      <th>2021_Q3</th>\n",
       "      <td>136.600006</td>\n",
       "      <td>156.979996</td>\n",
       "      <td>147.152188</td>\n",
       "      <td>46397700</td>\n",
       "      <td>140893200</td>\n",
       "      <td>8.091270e+07</td>\n",
       "    </tr>\n",
       "    <tr>\n",
       "      <th>2021_Q4</th>\n",
       "      <td>139.470001</td>\n",
       "      <td>181.119995</td>\n",
       "      <td>157.492188</td>\n",
       "      <td>41000000</td>\n",
       "      <td>195432700</td>\n",
       "      <td>8.907617e+07</td>\n",
       "    </tr>\n",
       "    <tr>\n",
       "      <th>2022_Q1</th>\n",
       "      <td>150.899994</td>\n",
       "      <td>182.630005</td>\n",
       "      <td>168.026774</td>\n",
       "      <td>61177400</td>\n",
       "      <td>179935700</td>\n",
       "      <td>9.543165e+07</td>\n",
       "    </tr>\n",
       "    <tr>\n",
       "      <th>2022_Q2</th>\n",
       "      <td>130.070007</td>\n",
       "      <td>177.500000</td>\n",
       "      <td>151.665323</td>\n",
       "      <td>53950200</td>\n",
       "      <td>182602000</td>\n",
       "      <td>9.416025e+07</td>\n",
       "    </tr>\n",
       "    <tr>\n",
       "      <th>2022_Q3</th>\n",
       "      <td>136.039993</td>\n",
       "      <td>173.750000</td>\n",
       "      <td>156.682812</td>\n",
       "      <td>51218200</td>\n",
       "      <td>162278800</td>\n",
       "      <td>7.878262e+07</td>\n",
       "    </tr>\n",
       "    <tr>\n",
       "      <th>2022_Q4</th>\n",
       "      <td>127.989998</td>\n",
       "      <td>155.080002</td>\n",
       "      <td>142.966191</td>\n",
       "      <td>35195900</td>\n",
       "      <td>164762400</td>\n",
       "      <td>8.362929e+07</td>\n",
       "    </tr>\n",
       "    <tr>\n",
       "      <th>2023_Q1</th>\n",
       "      <td>126.010002</td>\n",
       "      <td>153.880005</td>\n",
       "      <td>139.419643</td>\n",
       "      <td>54105100</td>\n",
       "      <td>154279900</td>\n",
       "      <td>7.586493e+07</td>\n",
       "    </tr>\n",
       "  </tbody>\n",
       "</table>\n",
       "</div>"
      ],
      "text/plain": [
       "           Open_min    Open_max   Open_mean  Volume_min  Volume_max  \\\n",
       "Quarter                                                               \n",
       "2013_Q1   15.052857   17.125357   15.987176   294294000   643960800   \n",
       "2013_Q2   13.856071   16.606071   15.410117   195025600   969651200   \n",
       "2013_Q3   14.381786   18.203930   16.588404   198990400   898696400   \n",
       "2013_Q4   17.087500   20.451786   18.880240   167554800   635807200   \n",
       "2014_Q1   17.684999   19.845715   19.024754   168669200  1065523200   \n",
       "2014_Q2   18.501785   23.682501   21.247290   118904000   759911600   \n",
       "2014_Q3   23.379999   25.775000   24.531875    91567200   759385200   \n",
       "2014_Q4   23.887501   29.817499   27.198750    57918400   403734400   \n",
       "2015_Q1   26.635000   33.235001   30.249959   126665200   585908400   \n",
       "2015_Q2   31.117500   33.615002   32.018611   102098400   475696000   \n",
       "2015_Q3   23.717501   33.212502   29.357031   108844000   648825200   \n",
       "2015_Q4   26.740000   30.782499   28.590664    52185600   385813200   \n",
       "2016_Q1   23.282499   27.430000   24.890615    77645600   533478800   \n",
       "2016_Q2   22.500000   28.027500   24.849922    83392400   458408400   \n",
       "2016_Q3   23.650000   28.797501   26.425039    74641600   443554800   \n",
       "2016_Q4   26.642500   29.545000   28.318492    45903600   264536800   \n",
       "2017_Q1   28.950001   36.047501   32.829274    61236400   447940000   \n",
       "2017_Q2   35.305000   39.002499   36.990278    56985200   289229200   \n",
       "2017_Q3   35.724998   41.200001   38.809088    57111200   286856000   \n",
       "2017_Q4   38.407501   43.777500   41.740357    56106800   237594400   \n",
       "2018_Q1   38.707500   45.647499   43.068402    74670800   346375200   \n",
       "2018_Q2   40.532501   48.535000   45.301719    60962800   266157600   \n",
       "2018_Q3   45.955002   57.247501   52.006389    50055600   384986800   \n",
       "2018_Q4   37.037498   57.695000   48.632659    91541600   382978400   \n",
       "2019_Q1   35.994999   48.834999   42.335779    68280800   365248800   \n",
       "2019_Q2   43.860001   52.722500   48.615635    58676400   259309200   \n",
       "2019_Q3   48.852501   56.200001   52.271328    45448000   277125600   \n",
       "2019_Q4   54.607498   72.779999   64.142500    46617600   275978000   \n",
       "2020_Q1   57.020000   81.184998   73.282944    80113600   426510000   \n",
       "2020_Q2   60.084999   91.250000   77.244683    80791200   264476000   \n",
       "2020_Q3   90.987503  137.589996  109.268945    89001600   374336800   \n",
       "2020_Q4  109.110001  138.050003  120.305469    46691300   262330500   \n",
       "2021_Q1  119.029999  143.600006  128.612459    60145100   185549500   \n",
       "2021_Q2  123.160004  136.470001  129.437937    53522400   151101000   \n",
       "2021_Q3  136.600006  156.979996  147.152188    46397700   140893200   \n",
       "2021_Q4  139.470001  181.119995  157.492188    41000000   195432700   \n",
       "2022_Q1  150.899994  182.630005  168.026774    61177400   179935700   \n",
       "2022_Q2  130.070007  177.500000  151.665323    53950200   182602000   \n",
       "2022_Q3  136.039993  173.750000  156.682812    51218200   162278800   \n",
       "2022_Q4  127.989998  155.080002  142.966191    35195900   164762400   \n",
       "2023_Q1  126.010002  153.880005  139.419643    54105100   154279900   \n",
       "\n",
       "          Volume_mean  \n",
       "Quarter                \n",
       "2013_Q1  4.525633e+08  \n",
       "2013_Q2  4.285868e+08  \n",
       "2013_Q3  3.629280e+08  \n",
       "2013_Q4  3.143794e+08  \n",
       "2014_Q1  3.220987e+08  \n",
       "2014_Q2  2.698170e+08  \n",
       "2014_Q3  2.186614e+08  \n",
       "2014_Q4  2.033927e+08  \n",
       "2015_Q1  2.347830e+08  \n",
       "2015_Q2  1.796123e+08  \n",
       "2015_Q3  2.419779e+08  \n",
       "2015_Q4  1.740667e+08  \n",
       "2016_Q1  1.854925e+08  \n",
       "2016_Q2  1.595346e+08  \n",
       "2016_Q3  1.427452e+08  \n",
       "2016_Q4  1.280788e+08  \n",
       "2017_Q1  1.096593e+08  \n",
       "2017_Q2  1.086644e+08  \n",
       "2017_Q3  1.119654e+08  \n",
       "2017_Q4  1.038818e+08  \n",
       "2018_Q1  1.509050e+08  \n",
       "2018_Q2  1.134222e+08  \n",
       "2018_Q3  1.125703e+08  \n",
       "2018_Q4  1.682538e+08  \n",
       "2019_Q1  1.279744e+08  \n",
       "2019_Q2  1.117964e+08  \n",
       "2019_Q3  1.060938e+08  \n",
       "2019_Q4  1.033646e+08  \n",
       "2020_Q1  1.973181e+08  \n",
       "2020_Q2  1.478510e+08  \n",
       "2020_Q3  1.714936e+08  \n",
       "2020_Q4  1.146865e+08  \n",
       "2021_Q1  1.102383e+08  \n",
       "2021_Q2  8.267274e+07  \n",
       "2021_Q3  8.091270e+07  \n",
       "2021_Q4  8.907617e+07  \n",
       "2022_Q1  9.543165e+07  \n",
       "2022_Q2  9.416025e+07  \n",
       "2022_Q3  7.878262e+07  \n",
       "2022_Q4  8.362929e+07  \n",
       "2023_Q1  7.586493e+07  "
      ]
     },
     "execution_count": 42,
     "metadata": {},
     "output_type": "execute_result"
    }
   ],
   "source": [
    "# Find min, max and average Open and volume (quarterly resample)\n",
    "\n",
    "result = df.resample(  \"Q\"  ) [  [\"Open\",\"Volume\"]  ] .agg(  [\"min\",\"max\",\"mean\"]  )\n",
    "\n",
    "#join column headers \n",
    "names = [    \"_\".join(col) for col in result.columns      ]\n",
    "\n",
    "#replace original columns with joined columns\n",
    "result.columns = names\n",
    "\n",
    "#extract year & quarter part from index\n",
    "result.index = [  f\"{year}_Q{quarter}\"  \n",
    "        for year,quarter in zip(result.index.year,result.index.quarter)  ]\n",
    "\n",
    "#change name of index axis\n",
    "result = result.rename_axis(\"Quarter\")\n",
    "\n",
    "result"
   ]
  },
  {
   "cell_type": "code",
   "execution_count": 43,
   "metadata": {},
   "outputs": [
    {
     "data": {
      "application/vnd.plotly.v1+json": {
       "config": {
        "plotlyServerURL": "https://plot.ly"
       },
       "data": [
        {
         "hovertemplate": "variable=Open_min<br>Quarter=%{x}<br>value=%{y}<extra></extra>",
         "legendgroup": "Open_min",
         "line": {
          "color": "#636efa",
          "dash": "solid"
         },
         "marker": {
          "symbol": "circle"
         },
         "mode": "lines+markers",
         "name": "Open_min",
         "orientation": "v",
         "showlegend": true,
         "type": "scatter",
         "x": [
          "2013_Q1",
          "2013_Q2",
          "2013_Q3",
          "2013_Q4",
          "2014_Q1",
          "2014_Q2",
          "2014_Q3",
          "2014_Q4",
          "2015_Q1",
          "2015_Q2",
          "2015_Q3",
          "2015_Q4",
          "2016_Q1",
          "2016_Q2",
          "2016_Q3",
          "2016_Q4",
          "2017_Q1",
          "2017_Q2",
          "2017_Q3",
          "2017_Q4",
          "2018_Q1",
          "2018_Q2",
          "2018_Q3",
          "2018_Q4",
          "2019_Q1",
          "2019_Q2",
          "2019_Q3",
          "2019_Q4",
          "2020_Q1",
          "2020_Q2",
          "2020_Q3",
          "2020_Q4",
          "2021_Q1",
          "2021_Q2",
          "2021_Q3",
          "2021_Q4",
          "2022_Q1",
          "2022_Q2",
          "2022_Q3",
          "2022_Q4",
          "2023_Q1"
         ],
         "xaxis": "x",
         "y": [
          15.052857,
          13.856071,
          14.381786,
          17.0875,
          17.684999,
          18.501785,
          23.379999,
          23.887501,
          26.635,
          31.1175,
          23.717501,
          26.74,
          23.282499,
          22.5,
          23.65,
          26.6425,
          28.950001,
          35.305,
          35.724998,
          38.407501,
          38.7075,
          40.532501,
          45.955002,
          37.037498,
          35.994999,
          43.860001,
          48.852501,
          54.607498,
          57.02,
          60.084999,
          90.987503,
          109.110001,
          119.029999,
          123.160004,
          136.600006,
          139.470001,
          150.899994,
          130.070007,
          136.039993,
          127.989998,
          126.010002
         ],
         "yaxis": "y"
        },
        {
         "hovertemplate": "variable=Open_max<br>Quarter=%{x}<br>value=%{y}<extra></extra>",
         "legendgroup": "Open_max",
         "line": {
          "color": "#EF553B",
          "dash": "solid"
         },
         "marker": {
          "symbol": "circle"
         },
         "mode": "lines+markers",
         "name": "Open_max",
         "orientation": "v",
         "showlegend": true,
         "type": "scatter",
         "x": [
          "2013_Q1",
          "2013_Q2",
          "2013_Q3",
          "2013_Q4",
          "2014_Q1",
          "2014_Q2",
          "2014_Q3",
          "2014_Q4",
          "2015_Q1",
          "2015_Q2",
          "2015_Q3",
          "2015_Q4",
          "2016_Q1",
          "2016_Q2",
          "2016_Q3",
          "2016_Q4",
          "2017_Q1",
          "2017_Q2",
          "2017_Q3",
          "2017_Q4",
          "2018_Q1",
          "2018_Q2",
          "2018_Q3",
          "2018_Q4",
          "2019_Q1",
          "2019_Q2",
          "2019_Q3",
          "2019_Q4",
          "2020_Q1",
          "2020_Q2",
          "2020_Q3",
          "2020_Q4",
          "2021_Q1",
          "2021_Q2",
          "2021_Q3",
          "2021_Q4",
          "2022_Q1",
          "2022_Q2",
          "2022_Q3",
          "2022_Q4",
          "2023_Q1"
         ],
         "xaxis": "x",
         "y": [
          17.125357,
          16.606071,
          18.20393,
          20.451786,
          19.845715,
          23.682501,
          25.775,
          29.817499,
          33.235001,
          33.615002,
          33.212502,
          30.782499,
          27.43,
          28.0275,
          28.797501,
          29.545,
          36.047501,
          39.002499,
          41.200001,
          43.7775,
          45.647499,
          48.535,
          57.247501,
          57.695,
          48.834999,
          52.7225,
          56.200001,
          72.779999,
          81.184998,
          91.25,
          137.589996,
          138.050003,
          143.600006,
          136.470001,
          156.979996,
          181.119995,
          182.630005,
          177.5,
          173.75,
          155.080002,
          153.880005
         ],
         "yaxis": "y"
        },
        {
         "hovertemplate": "variable=Open_mean<br>Quarter=%{x}<br>value=%{y}<extra></extra>",
         "legendgroup": "Open_mean",
         "line": {
          "color": "#00cc96",
          "dash": "solid"
         },
         "marker": {
          "symbol": "circle"
         },
         "mode": "lines+markers",
         "name": "Open_mean",
         "orientation": "v",
         "showlegend": true,
         "type": "scatter",
         "x": [
          "2013_Q1",
          "2013_Q2",
          "2013_Q3",
          "2013_Q4",
          "2014_Q1",
          "2014_Q2",
          "2014_Q3",
          "2014_Q4",
          "2015_Q1",
          "2015_Q2",
          "2015_Q3",
          "2015_Q4",
          "2016_Q1",
          "2016_Q2",
          "2016_Q3",
          "2016_Q4",
          "2017_Q1",
          "2017_Q2",
          "2017_Q3",
          "2017_Q4",
          "2018_Q1",
          "2018_Q2",
          "2018_Q3",
          "2018_Q4",
          "2019_Q1",
          "2019_Q2",
          "2019_Q3",
          "2019_Q4",
          "2020_Q1",
          "2020_Q2",
          "2020_Q3",
          "2020_Q4",
          "2021_Q1",
          "2021_Q2",
          "2021_Q3",
          "2021_Q4",
          "2022_Q1",
          "2022_Q2",
          "2022_Q3",
          "2022_Q4",
          "2023_Q1"
         ],
         "xaxis": "x",
         "y": [
          15.98717625,
          15.410117109375,
          16.588404046875,
          18.8802399375,
          19.024754278688526,
          21.247290206349206,
          24.531875125,
          27.19875009375,
          30.249958934426232,
          32.01861123809524,
          29.357031234375,
          28.590664,
          24.890614688524593,
          24.849922015625,
          26.425039125,
          28.31849180952381,
          32.82927420967742,
          36.99027795238095,
          38.80908750793651,
          41.740356841269836,
          43.068401622950816,
          45.301719046875,
          52.006388968253965,
          48.63265876190476,
          42.33577893442623,
          48.61563455555555,
          52.271328125,
          64.142499625,
          73.28294388709678,
          77.24468261904762,
          109.26894534375,
          120.3054690625,
          128.61245944262296,
          129.43793733333334,
          147.1521883125,
          157.492187515625,
          168.0267735645161,
          151.66532283870967,
          156.682812421875,
          142.9661914761905,
          139.41964342857142
         ],
         "yaxis": "y"
        }
       ],
       "layout": {
        "legend": {
         "title": {
          "text": "variable"
         },
         "tracegroupgap": 0
        },
        "margin": {
         "t": 60
        },
        "template": {
         "data": {
          "bar": [
           {
            "error_x": {
             "color": "#2a3f5f"
            },
            "error_y": {
             "color": "#2a3f5f"
            },
            "marker": {
             "line": {
              "color": "#E5ECF6",
              "width": 0.5
             },
             "pattern": {
              "fillmode": "overlay",
              "size": 10,
              "solidity": 0.2
             }
            },
            "type": "bar"
           }
          ],
          "barpolar": [
           {
            "marker": {
             "line": {
              "color": "#E5ECF6",
              "width": 0.5
             },
             "pattern": {
              "fillmode": "overlay",
              "size": 10,
              "solidity": 0.2
             }
            },
            "type": "barpolar"
           }
          ],
          "carpet": [
           {
            "aaxis": {
             "endlinecolor": "#2a3f5f",
             "gridcolor": "white",
             "linecolor": "white",
             "minorgridcolor": "white",
             "startlinecolor": "#2a3f5f"
            },
            "baxis": {
             "endlinecolor": "#2a3f5f",
             "gridcolor": "white",
             "linecolor": "white",
             "minorgridcolor": "white",
             "startlinecolor": "#2a3f5f"
            },
            "type": "carpet"
           }
          ],
          "choropleth": [
           {
            "colorbar": {
             "outlinewidth": 0,
             "ticks": ""
            },
            "type": "choropleth"
           }
          ],
          "contour": [
           {
            "colorbar": {
             "outlinewidth": 0,
             "ticks": ""
            },
            "colorscale": [
             [
              0,
              "#0d0887"
             ],
             [
              0.1111111111111111,
              "#46039f"
             ],
             [
              0.2222222222222222,
              "#7201a8"
             ],
             [
              0.3333333333333333,
              "#9c179e"
             ],
             [
              0.4444444444444444,
              "#bd3786"
             ],
             [
              0.5555555555555556,
              "#d8576b"
             ],
             [
              0.6666666666666666,
              "#ed7953"
             ],
             [
              0.7777777777777778,
              "#fb9f3a"
             ],
             [
              0.8888888888888888,
              "#fdca26"
             ],
             [
              1,
              "#f0f921"
             ]
            ],
            "type": "contour"
           }
          ],
          "contourcarpet": [
           {
            "colorbar": {
             "outlinewidth": 0,
             "ticks": ""
            },
            "type": "contourcarpet"
           }
          ],
          "heatmap": [
           {
            "colorbar": {
             "outlinewidth": 0,
             "ticks": ""
            },
            "colorscale": [
             [
              0,
              "#0d0887"
             ],
             [
              0.1111111111111111,
              "#46039f"
             ],
             [
              0.2222222222222222,
              "#7201a8"
             ],
             [
              0.3333333333333333,
              "#9c179e"
             ],
             [
              0.4444444444444444,
              "#bd3786"
             ],
             [
              0.5555555555555556,
              "#d8576b"
             ],
             [
              0.6666666666666666,
              "#ed7953"
             ],
             [
              0.7777777777777778,
              "#fb9f3a"
             ],
             [
              0.8888888888888888,
              "#fdca26"
             ],
             [
              1,
              "#f0f921"
             ]
            ],
            "type": "heatmap"
           }
          ],
          "heatmapgl": [
           {
            "colorbar": {
             "outlinewidth": 0,
             "ticks": ""
            },
            "colorscale": [
             [
              0,
              "#0d0887"
             ],
             [
              0.1111111111111111,
              "#46039f"
             ],
             [
              0.2222222222222222,
              "#7201a8"
             ],
             [
              0.3333333333333333,
              "#9c179e"
             ],
             [
              0.4444444444444444,
              "#bd3786"
             ],
             [
              0.5555555555555556,
              "#d8576b"
             ],
             [
              0.6666666666666666,
              "#ed7953"
             ],
             [
              0.7777777777777778,
              "#fb9f3a"
             ],
             [
              0.8888888888888888,
              "#fdca26"
             ],
             [
              1,
              "#f0f921"
             ]
            ],
            "type": "heatmapgl"
           }
          ],
          "histogram": [
           {
            "marker": {
             "pattern": {
              "fillmode": "overlay",
              "size": 10,
              "solidity": 0.2
             }
            },
            "type": "histogram"
           }
          ],
          "histogram2d": [
           {
            "colorbar": {
             "outlinewidth": 0,
             "ticks": ""
            },
            "colorscale": [
             [
              0,
              "#0d0887"
             ],
             [
              0.1111111111111111,
              "#46039f"
             ],
             [
              0.2222222222222222,
              "#7201a8"
             ],
             [
              0.3333333333333333,
              "#9c179e"
             ],
             [
              0.4444444444444444,
              "#bd3786"
             ],
             [
              0.5555555555555556,
              "#d8576b"
             ],
             [
              0.6666666666666666,
              "#ed7953"
             ],
             [
              0.7777777777777778,
              "#fb9f3a"
             ],
             [
              0.8888888888888888,
              "#fdca26"
             ],
             [
              1,
              "#f0f921"
             ]
            ],
            "type": "histogram2d"
           }
          ],
          "histogram2dcontour": [
           {
            "colorbar": {
             "outlinewidth": 0,
             "ticks": ""
            },
            "colorscale": [
             [
              0,
              "#0d0887"
             ],
             [
              0.1111111111111111,
              "#46039f"
             ],
             [
              0.2222222222222222,
              "#7201a8"
             ],
             [
              0.3333333333333333,
              "#9c179e"
             ],
             [
              0.4444444444444444,
              "#bd3786"
             ],
             [
              0.5555555555555556,
              "#d8576b"
             ],
             [
              0.6666666666666666,
              "#ed7953"
             ],
             [
              0.7777777777777778,
              "#fb9f3a"
             ],
             [
              0.8888888888888888,
              "#fdca26"
             ],
             [
              1,
              "#f0f921"
             ]
            ],
            "type": "histogram2dcontour"
           }
          ],
          "mesh3d": [
           {
            "colorbar": {
             "outlinewidth": 0,
             "ticks": ""
            },
            "type": "mesh3d"
           }
          ],
          "parcoords": [
           {
            "line": {
             "colorbar": {
              "outlinewidth": 0,
              "ticks": ""
             }
            },
            "type": "parcoords"
           }
          ],
          "pie": [
           {
            "automargin": true,
            "type": "pie"
           }
          ],
          "scatter": [
           {
            "fillpattern": {
             "fillmode": "overlay",
             "size": 10,
             "solidity": 0.2
            },
            "type": "scatter"
           }
          ],
          "scatter3d": [
           {
            "line": {
             "colorbar": {
              "outlinewidth": 0,
              "ticks": ""
             }
            },
            "marker": {
             "colorbar": {
              "outlinewidth": 0,
              "ticks": ""
             }
            },
            "type": "scatter3d"
           }
          ],
          "scattercarpet": [
           {
            "marker": {
             "colorbar": {
              "outlinewidth": 0,
              "ticks": ""
             }
            },
            "type": "scattercarpet"
           }
          ],
          "scattergeo": [
           {
            "marker": {
             "colorbar": {
              "outlinewidth": 0,
              "ticks": ""
             }
            },
            "type": "scattergeo"
           }
          ],
          "scattergl": [
           {
            "marker": {
             "colorbar": {
              "outlinewidth": 0,
              "ticks": ""
             }
            },
            "type": "scattergl"
           }
          ],
          "scattermapbox": [
           {
            "marker": {
             "colorbar": {
              "outlinewidth": 0,
              "ticks": ""
             }
            },
            "type": "scattermapbox"
           }
          ],
          "scatterpolar": [
           {
            "marker": {
             "colorbar": {
              "outlinewidth": 0,
              "ticks": ""
             }
            },
            "type": "scatterpolar"
           }
          ],
          "scatterpolargl": [
           {
            "marker": {
             "colorbar": {
              "outlinewidth": 0,
              "ticks": ""
             }
            },
            "type": "scatterpolargl"
           }
          ],
          "scatterternary": [
           {
            "marker": {
             "colorbar": {
              "outlinewidth": 0,
              "ticks": ""
             }
            },
            "type": "scatterternary"
           }
          ],
          "surface": [
           {
            "colorbar": {
             "outlinewidth": 0,
             "ticks": ""
            },
            "colorscale": [
             [
              0,
              "#0d0887"
             ],
             [
              0.1111111111111111,
              "#46039f"
             ],
             [
              0.2222222222222222,
              "#7201a8"
             ],
             [
              0.3333333333333333,
              "#9c179e"
             ],
             [
              0.4444444444444444,
              "#bd3786"
             ],
             [
              0.5555555555555556,
              "#d8576b"
             ],
             [
              0.6666666666666666,
              "#ed7953"
             ],
             [
              0.7777777777777778,
              "#fb9f3a"
             ],
             [
              0.8888888888888888,
              "#fdca26"
             ],
             [
              1,
              "#f0f921"
             ]
            ],
            "type": "surface"
           }
          ],
          "table": [
           {
            "cells": {
             "fill": {
              "color": "#EBF0F8"
             },
             "line": {
              "color": "white"
             }
            },
            "header": {
             "fill": {
              "color": "#C8D4E3"
             },
             "line": {
              "color": "white"
             }
            },
            "type": "table"
           }
          ]
         },
         "layout": {
          "annotationdefaults": {
           "arrowcolor": "#2a3f5f",
           "arrowhead": 0,
           "arrowwidth": 1
          },
          "autotypenumbers": "strict",
          "coloraxis": {
           "colorbar": {
            "outlinewidth": 0,
            "ticks": ""
           }
          },
          "colorscale": {
           "diverging": [
            [
             0,
             "#8e0152"
            ],
            [
             0.1,
             "#c51b7d"
            ],
            [
             0.2,
             "#de77ae"
            ],
            [
             0.3,
             "#f1b6da"
            ],
            [
             0.4,
             "#fde0ef"
            ],
            [
             0.5,
             "#f7f7f7"
            ],
            [
             0.6,
             "#e6f5d0"
            ],
            [
             0.7,
             "#b8e186"
            ],
            [
             0.8,
             "#7fbc41"
            ],
            [
             0.9,
             "#4d9221"
            ],
            [
             1,
             "#276419"
            ]
           ],
           "sequential": [
            [
             0,
             "#0d0887"
            ],
            [
             0.1111111111111111,
             "#46039f"
            ],
            [
             0.2222222222222222,
             "#7201a8"
            ],
            [
             0.3333333333333333,
             "#9c179e"
            ],
            [
             0.4444444444444444,
             "#bd3786"
            ],
            [
             0.5555555555555556,
             "#d8576b"
            ],
            [
             0.6666666666666666,
             "#ed7953"
            ],
            [
             0.7777777777777778,
             "#fb9f3a"
            ],
            [
             0.8888888888888888,
             "#fdca26"
            ],
            [
             1,
             "#f0f921"
            ]
           ],
           "sequentialminus": [
            [
             0,
             "#0d0887"
            ],
            [
             0.1111111111111111,
             "#46039f"
            ],
            [
             0.2222222222222222,
             "#7201a8"
            ],
            [
             0.3333333333333333,
             "#9c179e"
            ],
            [
             0.4444444444444444,
             "#bd3786"
            ],
            [
             0.5555555555555556,
             "#d8576b"
            ],
            [
             0.6666666666666666,
             "#ed7953"
            ],
            [
             0.7777777777777778,
             "#fb9f3a"
            ],
            [
             0.8888888888888888,
             "#fdca26"
            ],
            [
             1,
             "#f0f921"
            ]
           ]
          },
          "colorway": [
           "#636efa",
           "#EF553B",
           "#00cc96",
           "#ab63fa",
           "#FFA15A",
           "#19d3f3",
           "#FF6692",
           "#B6E880",
           "#FF97FF",
           "#FECB52"
          ],
          "font": {
           "color": "#2a3f5f"
          },
          "geo": {
           "bgcolor": "white",
           "lakecolor": "white",
           "landcolor": "#E5ECF6",
           "showlakes": true,
           "showland": true,
           "subunitcolor": "white"
          },
          "hoverlabel": {
           "align": "left"
          },
          "hovermode": "closest",
          "mapbox": {
           "style": "light"
          },
          "paper_bgcolor": "white",
          "plot_bgcolor": "#E5ECF6",
          "polar": {
           "angularaxis": {
            "gridcolor": "white",
            "linecolor": "white",
            "ticks": ""
           },
           "bgcolor": "#E5ECF6",
           "radialaxis": {
            "gridcolor": "white",
            "linecolor": "white",
            "ticks": ""
           }
          },
          "scene": {
           "xaxis": {
            "backgroundcolor": "#E5ECF6",
            "gridcolor": "white",
            "gridwidth": 2,
            "linecolor": "white",
            "showbackground": true,
            "ticks": "",
            "zerolinecolor": "white"
           },
           "yaxis": {
            "backgroundcolor": "#E5ECF6",
            "gridcolor": "white",
            "gridwidth": 2,
            "linecolor": "white",
            "showbackground": true,
            "ticks": "",
            "zerolinecolor": "white"
           },
           "zaxis": {
            "backgroundcolor": "#E5ECF6",
            "gridcolor": "white",
            "gridwidth": 2,
            "linecolor": "white",
            "showbackground": true,
            "ticks": "",
            "zerolinecolor": "white"
           }
          },
          "shapedefaults": {
           "line": {
            "color": "#2a3f5f"
           }
          },
          "ternary": {
           "aaxis": {
            "gridcolor": "white",
            "linecolor": "white",
            "ticks": ""
           },
           "baxis": {
            "gridcolor": "white",
            "linecolor": "white",
            "ticks": ""
           },
           "bgcolor": "#E5ECF6",
           "caxis": {
            "gridcolor": "white",
            "linecolor": "white",
            "ticks": ""
           }
          },
          "title": {
           "x": 0.05
          },
          "xaxis": {
           "automargin": true,
           "gridcolor": "white",
           "linecolor": "white",
           "ticks": "",
           "title": {
            "standoff": 15
           },
           "zerolinecolor": "white",
           "zerolinewidth": 2
          },
          "yaxis": {
           "automargin": true,
           "gridcolor": "white",
           "linecolor": "white",
           "ticks": "",
           "title": {
            "standoff": 15
           },
           "zerolinecolor": "white",
           "zerolinewidth": 2
          }
         }
        },
        "xaxis": {
         "anchor": "y",
         "domain": [
          0,
          1
         ],
         "title": {
          "text": "Quarter"
         }
        },
        "yaxis": {
         "anchor": "x",
         "domain": [
          0,
          1
         ],
         "title": {
          "text": "value"
         }
        }
       }
      }
     },
     "metadata": {},
     "output_type": "display_data"
    },
    {
     "data": {
      "application/vnd.plotly.v1+json": {
       "config": {
        "plotlyServerURL": "https://plot.ly"
       },
       "data": [
        {
         "hovertemplate": "variable=Volume_min<br>Quarter=%{x}<br>value=%{y}<extra></extra>",
         "legendgroup": "Volume_min",
         "line": {
          "color": "#636efa",
          "dash": "solid"
         },
         "marker": {
          "symbol": "circle"
         },
         "mode": "lines+markers",
         "name": "Volume_min",
         "orientation": "v",
         "showlegend": true,
         "type": "scatter",
         "x": [
          "2013_Q1",
          "2013_Q2",
          "2013_Q3",
          "2013_Q4",
          "2014_Q1",
          "2014_Q2",
          "2014_Q3",
          "2014_Q4",
          "2015_Q1",
          "2015_Q2",
          "2015_Q3",
          "2015_Q4",
          "2016_Q1",
          "2016_Q2",
          "2016_Q3",
          "2016_Q4",
          "2017_Q1",
          "2017_Q2",
          "2017_Q3",
          "2017_Q4",
          "2018_Q1",
          "2018_Q2",
          "2018_Q3",
          "2018_Q4",
          "2019_Q1",
          "2019_Q2",
          "2019_Q3",
          "2019_Q4",
          "2020_Q1",
          "2020_Q2",
          "2020_Q3",
          "2020_Q4",
          "2021_Q1",
          "2021_Q2",
          "2021_Q3",
          "2021_Q4",
          "2022_Q1",
          "2022_Q2",
          "2022_Q3",
          "2022_Q4",
          "2023_Q1"
         ],
         "xaxis": "x",
         "y": [
          294294000,
          195025600,
          198990400,
          167554800,
          168669200,
          118904000,
          91567200,
          57918400,
          126665200,
          102098400,
          108844000,
          52185600,
          77645600,
          83392400,
          74641600,
          45903600,
          61236400,
          56985200,
          57111200,
          56106800,
          74670800,
          60962800,
          50055600,
          91541600,
          68280800,
          58676400,
          45448000,
          46617600,
          80113600,
          80791200,
          89001600,
          46691300,
          60145100,
          53522400,
          46397700,
          41000000,
          61177400,
          53950200,
          51218200,
          35195900,
          54105100
         ],
         "yaxis": "y"
        },
        {
         "hovertemplate": "variable=Volume_max<br>Quarter=%{x}<br>value=%{y}<extra></extra>",
         "legendgroup": "Volume_max",
         "line": {
          "color": "#EF553B",
          "dash": "solid"
         },
         "marker": {
          "symbol": "circle"
         },
         "mode": "lines+markers",
         "name": "Volume_max",
         "orientation": "v",
         "showlegend": true,
         "type": "scatter",
         "x": [
          "2013_Q1",
          "2013_Q2",
          "2013_Q3",
          "2013_Q4",
          "2014_Q1",
          "2014_Q2",
          "2014_Q3",
          "2014_Q4",
          "2015_Q1",
          "2015_Q2",
          "2015_Q3",
          "2015_Q4",
          "2016_Q1",
          "2016_Q2",
          "2016_Q3",
          "2016_Q4",
          "2017_Q1",
          "2017_Q2",
          "2017_Q3",
          "2017_Q4",
          "2018_Q1",
          "2018_Q2",
          "2018_Q3",
          "2018_Q4",
          "2019_Q1",
          "2019_Q2",
          "2019_Q3",
          "2019_Q4",
          "2020_Q1",
          "2020_Q2",
          "2020_Q3",
          "2020_Q4",
          "2021_Q1",
          "2021_Q2",
          "2021_Q3",
          "2021_Q4",
          "2022_Q1",
          "2022_Q2",
          "2022_Q3",
          "2022_Q4",
          "2023_Q1"
         ],
         "xaxis": "x",
         "y": [
          643960800,
          969651200,
          898696400,
          635807200,
          1065523200,
          759911600,
          759385200,
          403734400,
          585908400,
          475696000,
          648825200,
          385813200,
          533478800,
          458408400,
          443554800,
          264536800,
          447940000,
          289229200,
          286856000,
          237594400,
          346375200,
          266157600,
          384986800,
          382978400,
          365248800,
          259309200,
          277125600,
          275978000,
          426510000,
          264476000,
          374336800,
          262330500,
          185549500,
          151101000,
          140893200,
          195432700,
          179935700,
          182602000,
          162278800,
          164762400,
          154279900
         ],
         "yaxis": "y"
        },
        {
         "hovertemplate": "variable=Volume_mean<br>Quarter=%{x}<br>value=%{y}<extra></extra>",
         "legendgroup": "Volume_mean",
         "line": {
          "color": "#00cc96",
          "dash": "solid"
         },
         "marker": {
          "symbol": "circle"
         },
         "mode": "lines+markers",
         "name": "Volume_mean",
         "orientation": "v",
         "showlegend": true,
         "type": "scatter",
         "x": [
          "2013_Q1",
          "2013_Q2",
          "2013_Q3",
          "2013_Q4",
          "2014_Q1",
          "2014_Q2",
          "2014_Q3",
          "2014_Q4",
          "2015_Q1",
          "2015_Q2",
          "2015_Q3",
          "2015_Q4",
          "2016_Q1",
          "2016_Q2",
          "2016_Q3",
          "2016_Q4",
          "2017_Q1",
          "2017_Q2",
          "2017_Q3",
          "2017_Q4",
          "2018_Q1",
          "2018_Q2",
          "2018_Q3",
          "2018_Q4",
          "2019_Q1",
          "2019_Q2",
          "2019_Q3",
          "2019_Q4",
          "2020_Q1",
          "2020_Q2",
          "2020_Q3",
          "2020_Q4",
          "2021_Q1",
          "2021_Q2",
          "2021_Q3",
          "2021_Q4",
          "2022_Q1",
          "2022_Q2",
          "2022_Q3",
          "2022_Q4",
          "2023_Q1"
         ],
         "xaxis": "x",
         "y": [
          452563300,
          428586812.5,
          362928037.5,
          314379450,
          322098688.52459013,
          269816958.73015875,
          218661437.5,
          203392687.5,
          234782996.72131148,
          179612336.5079365,
          241977937.5,
          174066743.75,
          185492472.13114753,
          159534556.25,
          142745231.25,
          128078793.65079366,
          109659290.32258065,
          108664380.95238096,
          111965396.82539682,
          103881809.52380952,
          150905009.83606556,
          113422193.75,
          112570304.76190476,
          168253803.17460316,
          127974386.8852459,
          111796380.95238096,
          106093775,
          103364556.25,
          197318096.77419356,
          147850965.07936507,
          171493584.375,
          114686459.375,
          110238291.80327868,
          82672736.50793651,
          80912703.125,
          89076170.3125,
          95431651.61290322,
          94160253.22580644,
          78782621.875,
          83629285.71428572,
          75864928.57142857
         ],
         "yaxis": "y"
        }
       ],
       "layout": {
        "legend": {
         "title": {
          "text": "variable"
         },
         "tracegroupgap": 0
        },
        "margin": {
         "t": 60
        },
        "template": {
         "data": {
          "bar": [
           {
            "error_x": {
             "color": "#2a3f5f"
            },
            "error_y": {
             "color": "#2a3f5f"
            },
            "marker": {
             "line": {
              "color": "#E5ECF6",
              "width": 0.5
             },
             "pattern": {
              "fillmode": "overlay",
              "size": 10,
              "solidity": 0.2
             }
            },
            "type": "bar"
           }
          ],
          "barpolar": [
           {
            "marker": {
             "line": {
              "color": "#E5ECF6",
              "width": 0.5
             },
             "pattern": {
              "fillmode": "overlay",
              "size": 10,
              "solidity": 0.2
             }
            },
            "type": "barpolar"
           }
          ],
          "carpet": [
           {
            "aaxis": {
             "endlinecolor": "#2a3f5f",
             "gridcolor": "white",
             "linecolor": "white",
             "minorgridcolor": "white",
             "startlinecolor": "#2a3f5f"
            },
            "baxis": {
             "endlinecolor": "#2a3f5f",
             "gridcolor": "white",
             "linecolor": "white",
             "minorgridcolor": "white",
             "startlinecolor": "#2a3f5f"
            },
            "type": "carpet"
           }
          ],
          "choropleth": [
           {
            "colorbar": {
             "outlinewidth": 0,
             "ticks": ""
            },
            "type": "choropleth"
           }
          ],
          "contour": [
           {
            "colorbar": {
             "outlinewidth": 0,
             "ticks": ""
            },
            "colorscale": [
             [
              0,
              "#0d0887"
             ],
             [
              0.1111111111111111,
              "#46039f"
             ],
             [
              0.2222222222222222,
              "#7201a8"
             ],
             [
              0.3333333333333333,
              "#9c179e"
             ],
             [
              0.4444444444444444,
              "#bd3786"
             ],
             [
              0.5555555555555556,
              "#d8576b"
             ],
             [
              0.6666666666666666,
              "#ed7953"
             ],
             [
              0.7777777777777778,
              "#fb9f3a"
             ],
             [
              0.8888888888888888,
              "#fdca26"
             ],
             [
              1,
              "#f0f921"
             ]
            ],
            "type": "contour"
           }
          ],
          "contourcarpet": [
           {
            "colorbar": {
             "outlinewidth": 0,
             "ticks": ""
            },
            "type": "contourcarpet"
           }
          ],
          "heatmap": [
           {
            "colorbar": {
             "outlinewidth": 0,
             "ticks": ""
            },
            "colorscale": [
             [
              0,
              "#0d0887"
             ],
             [
              0.1111111111111111,
              "#46039f"
             ],
             [
              0.2222222222222222,
              "#7201a8"
             ],
             [
              0.3333333333333333,
              "#9c179e"
             ],
             [
              0.4444444444444444,
              "#bd3786"
             ],
             [
              0.5555555555555556,
              "#d8576b"
             ],
             [
              0.6666666666666666,
              "#ed7953"
             ],
             [
              0.7777777777777778,
              "#fb9f3a"
             ],
             [
              0.8888888888888888,
              "#fdca26"
             ],
             [
              1,
              "#f0f921"
             ]
            ],
            "type": "heatmap"
           }
          ],
          "heatmapgl": [
           {
            "colorbar": {
             "outlinewidth": 0,
             "ticks": ""
            },
            "colorscale": [
             [
              0,
              "#0d0887"
             ],
             [
              0.1111111111111111,
              "#46039f"
             ],
             [
              0.2222222222222222,
              "#7201a8"
             ],
             [
              0.3333333333333333,
              "#9c179e"
             ],
             [
              0.4444444444444444,
              "#bd3786"
             ],
             [
              0.5555555555555556,
              "#d8576b"
             ],
             [
              0.6666666666666666,
              "#ed7953"
             ],
             [
              0.7777777777777778,
              "#fb9f3a"
             ],
             [
              0.8888888888888888,
              "#fdca26"
             ],
             [
              1,
              "#f0f921"
             ]
            ],
            "type": "heatmapgl"
           }
          ],
          "histogram": [
           {
            "marker": {
             "pattern": {
              "fillmode": "overlay",
              "size": 10,
              "solidity": 0.2
             }
            },
            "type": "histogram"
           }
          ],
          "histogram2d": [
           {
            "colorbar": {
             "outlinewidth": 0,
             "ticks": ""
            },
            "colorscale": [
             [
              0,
              "#0d0887"
             ],
             [
              0.1111111111111111,
              "#46039f"
             ],
             [
              0.2222222222222222,
              "#7201a8"
             ],
             [
              0.3333333333333333,
              "#9c179e"
             ],
             [
              0.4444444444444444,
              "#bd3786"
             ],
             [
              0.5555555555555556,
              "#d8576b"
             ],
             [
              0.6666666666666666,
              "#ed7953"
             ],
             [
              0.7777777777777778,
              "#fb9f3a"
             ],
             [
              0.8888888888888888,
              "#fdca26"
             ],
             [
              1,
              "#f0f921"
             ]
            ],
            "type": "histogram2d"
           }
          ],
          "histogram2dcontour": [
           {
            "colorbar": {
             "outlinewidth": 0,
             "ticks": ""
            },
            "colorscale": [
             [
              0,
              "#0d0887"
             ],
             [
              0.1111111111111111,
              "#46039f"
             ],
             [
              0.2222222222222222,
              "#7201a8"
             ],
             [
              0.3333333333333333,
              "#9c179e"
             ],
             [
              0.4444444444444444,
              "#bd3786"
             ],
             [
              0.5555555555555556,
              "#d8576b"
             ],
             [
              0.6666666666666666,
              "#ed7953"
             ],
             [
              0.7777777777777778,
              "#fb9f3a"
             ],
             [
              0.8888888888888888,
              "#fdca26"
             ],
             [
              1,
              "#f0f921"
             ]
            ],
            "type": "histogram2dcontour"
           }
          ],
          "mesh3d": [
           {
            "colorbar": {
             "outlinewidth": 0,
             "ticks": ""
            },
            "type": "mesh3d"
           }
          ],
          "parcoords": [
           {
            "line": {
             "colorbar": {
              "outlinewidth": 0,
              "ticks": ""
             }
            },
            "type": "parcoords"
           }
          ],
          "pie": [
           {
            "automargin": true,
            "type": "pie"
           }
          ],
          "scatter": [
           {
            "fillpattern": {
             "fillmode": "overlay",
             "size": 10,
             "solidity": 0.2
            },
            "type": "scatter"
           }
          ],
          "scatter3d": [
           {
            "line": {
             "colorbar": {
              "outlinewidth": 0,
              "ticks": ""
             }
            },
            "marker": {
             "colorbar": {
              "outlinewidth": 0,
              "ticks": ""
             }
            },
            "type": "scatter3d"
           }
          ],
          "scattercarpet": [
           {
            "marker": {
             "colorbar": {
              "outlinewidth": 0,
              "ticks": ""
             }
            },
            "type": "scattercarpet"
           }
          ],
          "scattergeo": [
           {
            "marker": {
             "colorbar": {
              "outlinewidth": 0,
              "ticks": ""
             }
            },
            "type": "scattergeo"
           }
          ],
          "scattergl": [
           {
            "marker": {
             "colorbar": {
              "outlinewidth": 0,
              "ticks": ""
             }
            },
            "type": "scattergl"
           }
          ],
          "scattermapbox": [
           {
            "marker": {
             "colorbar": {
              "outlinewidth": 0,
              "ticks": ""
             }
            },
            "type": "scattermapbox"
           }
          ],
          "scatterpolar": [
           {
            "marker": {
             "colorbar": {
              "outlinewidth": 0,
              "ticks": ""
             }
            },
            "type": "scatterpolar"
           }
          ],
          "scatterpolargl": [
           {
            "marker": {
             "colorbar": {
              "outlinewidth": 0,
              "ticks": ""
             }
            },
            "type": "scatterpolargl"
           }
          ],
          "scatterternary": [
           {
            "marker": {
             "colorbar": {
              "outlinewidth": 0,
              "ticks": ""
             }
            },
            "type": "scatterternary"
           }
          ],
          "surface": [
           {
            "colorbar": {
             "outlinewidth": 0,
             "ticks": ""
            },
            "colorscale": [
             [
              0,
              "#0d0887"
             ],
             [
              0.1111111111111111,
              "#46039f"
             ],
             [
              0.2222222222222222,
              "#7201a8"
             ],
             [
              0.3333333333333333,
              "#9c179e"
             ],
             [
              0.4444444444444444,
              "#bd3786"
             ],
             [
              0.5555555555555556,
              "#d8576b"
             ],
             [
              0.6666666666666666,
              "#ed7953"
             ],
             [
              0.7777777777777778,
              "#fb9f3a"
             ],
             [
              0.8888888888888888,
              "#fdca26"
             ],
             [
              1,
              "#f0f921"
             ]
            ],
            "type": "surface"
           }
          ],
          "table": [
           {
            "cells": {
             "fill": {
              "color": "#EBF0F8"
             },
             "line": {
              "color": "white"
             }
            },
            "header": {
             "fill": {
              "color": "#C8D4E3"
             },
             "line": {
              "color": "white"
             }
            },
            "type": "table"
           }
          ]
         },
         "layout": {
          "annotationdefaults": {
           "arrowcolor": "#2a3f5f",
           "arrowhead": 0,
           "arrowwidth": 1
          },
          "autotypenumbers": "strict",
          "coloraxis": {
           "colorbar": {
            "outlinewidth": 0,
            "ticks": ""
           }
          },
          "colorscale": {
           "diverging": [
            [
             0,
             "#8e0152"
            ],
            [
             0.1,
             "#c51b7d"
            ],
            [
             0.2,
             "#de77ae"
            ],
            [
             0.3,
             "#f1b6da"
            ],
            [
             0.4,
             "#fde0ef"
            ],
            [
             0.5,
             "#f7f7f7"
            ],
            [
             0.6,
             "#e6f5d0"
            ],
            [
             0.7,
             "#b8e186"
            ],
            [
             0.8,
             "#7fbc41"
            ],
            [
             0.9,
             "#4d9221"
            ],
            [
             1,
             "#276419"
            ]
           ],
           "sequential": [
            [
             0,
             "#0d0887"
            ],
            [
             0.1111111111111111,
             "#46039f"
            ],
            [
             0.2222222222222222,
             "#7201a8"
            ],
            [
             0.3333333333333333,
             "#9c179e"
            ],
            [
             0.4444444444444444,
             "#bd3786"
            ],
            [
             0.5555555555555556,
             "#d8576b"
            ],
            [
             0.6666666666666666,
             "#ed7953"
            ],
            [
             0.7777777777777778,
             "#fb9f3a"
            ],
            [
             0.8888888888888888,
             "#fdca26"
            ],
            [
             1,
             "#f0f921"
            ]
           ],
           "sequentialminus": [
            [
             0,
             "#0d0887"
            ],
            [
             0.1111111111111111,
             "#46039f"
            ],
            [
             0.2222222222222222,
             "#7201a8"
            ],
            [
             0.3333333333333333,
             "#9c179e"
            ],
            [
             0.4444444444444444,
             "#bd3786"
            ],
            [
             0.5555555555555556,
             "#d8576b"
            ],
            [
             0.6666666666666666,
             "#ed7953"
            ],
            [
             0.7777777777777778,
             "#fb9f3a"
            ],
            [
             0.8888888888888888,
             "#fdca26"
            ],
            [
             1,
             "#f0f921"
            ]
           ]
          },
          "colorway": [
           "#636efa",
           "#EF553B",
           "#00cc96",
           "#ab63fa",
           "#FFA15A",
           "#19d3f3",
           "#FF6692",
           "#B6E880",
           "#FF97FF",
           "#FECB52"
          ],
          "font": {
           "color": "#2a3f5f"
          },
          "geo": {
           "bgcolor": "white",
           "lakecolor": "white",
           "landcolor": "#E5ECF6",
           "showlakes": true,
           "showland": true,
           "subunitcolor": "white"
          },
          "hoverlabel": {
           "align": "left"
          },
          "hovermode": "closest",
          "mapbox": {
           "style": "light"
          },
          "paper_bgcolor": "white",
          "plot_bgcolor": "#E5ECF6",
          "polar": {
           "angularaxis": {
            "gridcolor": "white",
            "linecolor": "white",
            "ticks": ""
           },
           "bgcolor": "#E5ECF6",
           "radialaxis": {
            "gridcolor": "white",
            "linecolor": "white",
            "ticks": ""
           }
          },
          "scene": {
           "xaxis": {
            "backgroundcolor": "#E5ECF6",
            "gridcolor": "white",
            "gridwidth": 2,
            "linecolor": "white",
            "showbackground": true,
            "ticks": "",
            "zerolinecolor": "white"
           },
           "yaxis": {
            "backgroundcolor": "#E5ECF6",
            "gridcolor": "white",
            "gridwidth": 2,
            "linecolor": "white",
            "showbackground": true,
            "ticks": "",
            "zerolinecolor": "white"
           },
           "zaxis": {
            "backgroundcolor": "#E5ECF6",
            "gridcolor": "white",
            "gridwidth": 2,
            "linecolor": "white",
            "showbackground": true,
            "ticks": "",
            "zerolinecolor": "white"
           }
          },
          "shapedefaults": {
           "line": {
            "color": "#2a3f5f"
           }
          },
          "ternary": {
           "aaxis": {
            "gridcolor": "white",
            "linecolor": "white",
            "ticks": ""
           },
           "baxis": {
            "gridcolor": "white",
            "linecolor": "white",
            "ticks": ""
           },
           "bgcolor": "#E5ECF6",
           "caxis": {
            "gridcolor": "white",
            "linecolor": "white",
            "ticks": ""
           }
          },
          "title": {
           "x": 0.05
          },
          "xaxis": {
           "automargin": true,
           "gridcolor": "white",
           "linecolor": "white",
           "ticks": "",
           "title": {
            "standoff": 15
           },
           "zerolinecolor": "white",
           "zerolinewidth": 2
          },
          "yaxis": {
           "automargin": true,
           "gridcolor": "white",
           "linecolor": "white",
           "ticks": "",
           "title": {
            "standoff": 15
           },
           "zerolinecolor": "white",
           "zerolinewidth": 2
          }
         }
        },
        "xaxis": {
         "anchor": "y",
         "domain": [
          0,
          1
         ],
         "title": {
          "text": "Quarter"
         }
        },
        "yaxis": {
         "anchor": "x",
         "domain": [
          0,
          1
         ],
         "title": {
          "text": "value"
         }
        }
       }
      }
     },
     "metadata": {},
     "output_type": "display_data"
    }
   ],
   "source": [
    "display_graph(result)"
   ]
  }
 ],
 "metadata": {
  "kernelspec": {
   "display_name": "virtualenv",
   "language": "python",
   "name": "python3"
  },
  "language_info": {
   "codemirror_mode": {
    "name": "ipython",
    "version": 3
   },
   "file_extension": ".py",
   "mimetype": "text/x-python",
   "name": "python",
   "nbconvert_exporter": "python",
   "pygments_lexer": "ipython3",
   "version": "3.10.6"
  },
  "orig_nbformat": 4
 },
 "nbformat": 4,
 "nbformat_minor": 2
}
